{
 "cells": [
  {
   "cell_type": "markdown",
   "id": "4637a60f",
   "metadata": {},
   "source": [
    "# Liquiloans Junior_Analyst Assignment By HARIOM RAI"
   ]
  },
  {
   "cell_type": "code",
   "execution_count": 1,
   "id": "481727ae",
   "metadata": {},
   "outputs": [],
   "source": [
    "    import pandas as pd\n",
    "    import numpy as np\n",
    "    import seaborn as sns\n",
    "    import matplotlib.pyplot as plt"
   ]
  },
  {
   "cell_type": "code",
   "execution_count": 2,
   "id": "be78d6c3",
   "metadata": {},
   "outputs": [
    {
     "data": {
      "text/html": [
       "<div>\n",
       "<style scoped>\n",
       "    .dataframe tbody tr th:only-of-type {\n",
       "        vertical-align: middle;\n",
       "    }\n",
       "\n",
       "    .dataframe tbody tr th {\n",
       "        vertical-align: top;\n",
       "    }\n",
       "\n",
       "    .dataframe thead th {\n",
       "        text-align: right;\n",
       "    }\n",
       "</style>\n",
       "<table border=\"1\" class=\"dataframe\">\n",
       "  <thead>\n",
       "    <tr style=\"text-align: right;\">\n",
       "      <th></th>\n",
       "      <th>asst_id</th>\n",
       "      <th>product_type</th>\n",
       "      <th>manufacture_date</th>\n",
       "      <th>contract_start</th>\n",
       "      <th>contract_end</th>\n",
       "      <th>contact_date</th>\n",
       "      <th>contact_type</th>\n",
       "      <th>issue_type</th>\n",
       "      <th>topic_category</th>\n",
       "      <th>parts_sent</th>\n",
       "      <th>repair_type</th>\n",
       "      <th>repeat_ct</th>\n",
       "      <th>parts_ct</th>\n",
       "      <th>agent_tenure_indays</th>\n",
       "      <th>contact_manager_flg</th>\n",
       "      <th>diagnostics</th>\n",
       "      <th>repeat_parts_sent</th>\n",
       "      <th>region</th>\n",
       "      <th>country</th>\n",
       "    </tr>\n",
       "  </thead>\n",
       "  <tbody>\n",
       "    <tr>\n",
       "      <th>0</th>\n",
       "      <td>0</td>\n",
       "      <td>Laptops</td>\n",
       "      <td>6/26/2017</td>\n",
       "      <td>6/26/2017</td>\n",
       "      <td>6/21/2021</td>\n",
       "      <td>10/1/2018</td>\n",
       "      <td>Voice</td>\n",
       "      <td>NaN</td>\n",
       "      <td>NaN</td>\n",
       "      <td>Hard Drive, Documentation(2)</td>\n",
       "      <td>Hard</td>\n",
       "      <td>0</td>\n",
       "      <td>3</td>\n",
       "      <td>1018.0</td>\n",
       "      <td>0</td>\n",
       "      <td>Not_USED</td>\n",
       "      <td>NaN</td>\n",
       "      <td>Hogwarts</td>\n",
       "      <td>NaN</td>\n",
       "    </tr>\n",
       "    <tr>\n",
       "      <th>1</th>\n",
       "      <td>1</td>\n",
       "      <td>Laptops</td>\n",
       "      <td>12/12/2016</td>\n",
       "      <td>12/12/2016</td>\n",
       "      <td>12/2/2019</td>\n",
       "      <td>10/1/2018</td>\n",
       "      <td>Voice</td>\n",
       "      <td>NaN</td>\n",
       "      <td>NaN</td>\n",
       "      <td>Speaker, Chassis</td>\n",
       "      <td>Hard</td>\n",
       "      <td>0</td>\n",
       "      <td>2</td>\n",
       "      <td>1018.0</td>\n",
       "      <td>0</td>\n",
       "      <td>Not_USED</td>\n",
       "      <td>NaN</td>\n",
       "      <td>Hogwarts</td>\n",
       "      <td>Zonko's Joke Shop</td>\n",
       "    </tr>\n",
       "    <tr>\n",
       "      <th>2</th>\n",
       "      <td>2</td>\n",
       "      <td>Laptops</td>\n",
       "      <td>5/21/2018</td>\n",
       "      <td>5/21/2018</td>\n",
       "      <td>5/30/2022</td>\n",
       "      <td>10/1/2018</td>\n",
       "      <td>Voice</td>\n",
       "      <td>NaN</td>\n",
       "      <td>NaN</td>\n",
       "      <td>Cables</td>\n",
       "      <td>Hard</td>\n",
       "      <td>0</td>\n",
       "      <td>1</td>\n",
       "      <td>1018.0</td>\n",
       "      <td>0</td>\n",
       "      <td>Not_USED</td>\n",
       "      <td>Motherboard, Miscellaneous(2), Hard Drive, Cha...</td>\n",
       "      <td>Hogwarts</td>\n",
       "      <td>Zonko's Joke Shop</td>\n",
       "    </tr>\n",
       "    <tr>\n",
       "      <th>3</th>\n",
       "      <td>3</td>\n",
       "      <td>Laptops</td>\n",
       "      <td>2/22/2016</td>\n",
       "      <td>2/22/2016</td>\n",
       "      <td>2/18/2019</td>\n",
       "      <td>10/1/2018</td>\n",
       "      <td>VOICE</td>\n",
       "      <td>Hard Drive</td>\n",
       "      <td>Booting</td>\n",
       "      <td>Hard Drive</td>\n",
       "      <td>Hard</td>\n",
       "      <td>0</td>\n",
       "      <td>1</td>\n",
       "      <td>298.0</td>\n",
       "      <td>0</td>\n",
       "      <td>Effective_Usage</td>\n",
       "      <td>NaN</td>\n",
       "      <td>Hogwarts</td>\n",
       "      <td>Zonko's Joke Shop</td>\n",
       "    </tr>\n",
       "    <tr>\n",
       "      <th>4</th>\n",
       "      <td>4</td>\n",
       "      <td>Laptops</td>\n",
       "      <td>8/7/2017</td>\n",
       "      <td>8/7/2017</td>\n",
       "      <td>8/3/2020</td>\n",
       "      <td>10/1/2018</td>\n",
       "      <td>Voice</td>\n",
       "      <td>NaN</td>\n",
       "      <td>NaN</td>\n",
       "      <td>Battery (Notebook)</td>\n",
       "      <td>Hard</td>\n",
       "      <td>0</td>\n",
       "      <td>1</td>\n",
       "      <td>1018.0</td>\n",
       "      <td>0</td>\n",
       "      <td>Not_USED</td>\n",
       "      <td>NaN</td>\n",
       "      <td>Hogwarts</td>\n",
       "      <td>Zonko's Joke Shop</td>\n",
       "    </tr>\n",
       "    <tr>\n",
       "      <th>...</th>\n",
       "      <td>...</td>\n",
       "      <td>...</td>\n",
       "      <td>...</td>\n",
       "      <td>...</td>\n",
       "      <td>...</td>\n",
       "      <td>...</td>\n",
       "      <td>...</td>\n",
       "      <td>...</td>\n",
       "      <td>...</td>\n",
       "      <td>...</td>\n",
       "      <td>...</td>\n",
       "      <td>...</td>\n",
       "      <td>...</td>\n",
       "      <td>...</td>\n",
       "      <td>...</td>\n",
       "      <td>...</td>\n",
       "      <td>...</td>\n",
       "      <td>...</td>\n",
       "      <td>...</td>\n",
       "    </tr>\n",
       "    <tr>\n",
       "      <th>99995</th>\n",
       "      <td>16660</td>\n",
       "      <td>Laptops</td>\n",
       "      <td>7/25/2016</td>\n",
       "      <td>7/25/2016</td>\n",
       "      <td>7/22/2019</td>\n",
       "      <td>10/1/2018</td>\n",
       "      <td>VOICE</td>\n",
       "      <td>Information Status</td>\n",
       "      <td>Booting</td>\n",
       "      <td>NaN</td>\n",
       "      <td>Soft</td>\n",
       "      <td>0</td>\n",
       "      <td>0</td>\n",
       "      <td>1978.0</td>\n",
       "      <td>0</td>\n",
       "      <td>Not_USED</td>\n",
       "      <td>NaN</td>\n",
       "      <td>Hogwarts</td>\n",
       "      <td>Zonko's Joke Shop</td>\n",
       "    </tr>\n",
       "    <tr>\n",
       "      <th>99996</th>\n",
       "      <td>16661</td>\n",
       "      <td>Laptops</td>\n",
       "      <td>5/1/2017</td>\n",
       "      <td>5/1/2017</td>\n",
       "      <td>5/31/2021</td>\n",
       "      <td>10/1/2018</td>\n",
       "      <td>Voice</td>\n",
       "      <td>NaN</td>\n",
       "      <td>NaN</td>\n",
       "      <td>LCD Panel, Chassis(2)</td>\n",
       "      <td>Hard</td>\n",
       "      <td>0</td>\n",
       "      <td>3</td>\n",
       "      <td>1018.0</td>\n",
       "      <td>0</td>\n",
       "      <td>Not_USED</td>\n",
       "      <td>Chassis</td>\n",
       "      <td>Hogwarts</td>\n",
       "      <td>Zonko's Joke Shop</td>\n",
       "    </tr>\n",
       "    <tr>\n",
       "      <th>99997</th>\n",
       "      <td>16662</td>\n",
       "      <td>Desktops</td>\n",
       "      <td>2/15/2016</td>\n",
       "      <td>2/15/2016</td>\n",
       "      <td>2/15/2021</td>\n",
       "      <td>10/1/2018</td>\n",
       "      <td>VOICE</td>\n",
       "      <td>Information Status</td>\n",
       "      <td>Power</td>\n",
       "      <td>NaN</td>\n",
       "      <td>Soft</td>\n",
       "      <td>0</td>\n",
       "      <td>0</td>\n",
       "      <td>305.0</td>\n",
       "      <td>0</td>\n",
       "      <td>Not_USED</td>\n",
       "      <td>NaN</td>\n",
       "      <td>Milky Way</td>\n",
       "      <td>Merope</td>\n",
       "    </tr>\n",
       "    <tr>\n",
       "      <th>99998</th>\n",
       "      <td>16663</td>\n",
       "      <td>Laptops</td>\n",
       "      <td>12/21/2015</td>\n",
       "      <td>12/21/2015</td>\n",
       "      <td>12/25/2023</td>\n",
       "      <td>10/1/2018</td>\n",
       "      <td>CHAT</td>\n",
       "      <td>Audio, Video, Speakers, TV Tuner</td>\n",
       "      <td>LCD/Monitor</td>\n",
       "      <td>LCD Panel, Cables</td>\n",
       "      <td>Hard</td>\n",
       "      <td>0</td>\n",
       "      <td>2</td>\n",
       "      <td>323.0</td>\n",
       "      <td>0</td>\n",
       "      <td>InEffective_Usage</td>\n",
       "      <td>NaN</td>\n",
       "      <td>Hogwarts</td>\n",
       "      <td>Zonko's Joke Shop</td>\n",
       "    </tr>\n",
       "    <tr>\n",
       "      <th>99999</th>\n",
       "      <td>16664</td>\n",
       "      <td>Desktops</td>\n",
       "      <td>5/8/2017</td>\n",
       "      <td>5/8/2017</td>\n",
       "      <td>4/27/2020</td>\n",
       "      <td>10/1/2018</td>\n",
       "      <td>Voice</td>\n",
       "      <td>NaN</td>\n",
       "      <td>NaN</td>\n",
       "      <td>Motherboard, LCD Panel</td>\n",
       "      <td>Hard</td>\n",
       "      <td>1</td>\n",
       "      <td>2</td>\n",
       "      <td>1018.0</td>\n",
       "      <td>0</td>\n",
       "      <td>Not_USED</td>\n",
       "      <td>Motherboard, Documentation</td>\n",
       "      <td>Hogwarts</td>\n",
       "      <td>Zonko's Joke Shop</td>\n",
       "    </tr>\n",
       "  </tbody>\n",
       "</table>\n",
       "<p>100000 rows × 19 columns</p>\n",
       "</div>"
      ],
      "text/plain": [
       "       asst_id product_type manufacture_date contract_start contract_end  \\\n",
       "0            0      Laptops        6/26/2017      6/26/2017    6/21/2021   \n",
       "1            1      Laptops       12/12/2016     12/12/2016    12/2/2019   \n",
       "2            2      Laptops        5/21/2018      5/21/2018    5/30/2022   \n",
       "3            3      Laptops        2/22/2016      2/22/2016    2/18/2019   \n",
       "4            4      Laptops         8/7/2017       8/7/2017     8/3/2020   \n",
       "...        ...          ...              ...            ...          ...   \n",
       "99995    16660      Laptops        7/25/2016      7/25/2016    7/22/2019   \n",
       "99996    16661      Laptops         5/1/2017       5/1/2017    5/31/2021   \n",
       "99997    16662     Desktops        2/15/2016      2/15/2016    2/15/2021   \n",
       "99998    16663      Laptops       12/21/2015     12/21/2015   12/25/2023   \n",
       "99999    16664     Desktops         5/8/2017       5/8/2017    4/27/2020   \n",
       "\n",
       "      contact_date contact_type                        issue_type  \\\n",
       "0        10/1/2018        Voice                               NaN   \n",
       "1        10/1/2018        Voice                               NaN   \n",
       "2        10/1/2018        Voice                               NaN   \n",
       "3        10/1/2018        VOICE                        Hard Drive   \n",
       "4        10/1/2018        Voice                               NaN   \n",
       "...            ...          ...                               ...   \n",
       "99995    10/1/2018        VOICE                Information Status   \n",
       "99996    10/1/2018        Voice                               NaN   \n",
       "99997    10/1/2018        VOICE                Information Status   \n",
       "99998    10/1/2018         CHAT  Audio, Video, Speakers, TV Tuner   \n",
       "99999    10/1/2018        Voice                               NaN   \n",
       "\n",
       "      topic_category                    parts_sent repair_type  repeat_ct  \\\n",
       "0                NaN  Hard Drive, Documentation(2)        Hard          0   \n",
       "1                NaN              Speaker, Chassis        Hard          0   \n",
       "2                NaN                        Cables        Hard          0   \n",
       "3            Booting                    Hard Drive        Hard          0   \n",
       "4                NaN            Battery (Notebook)        Hard          0   \n",
       "...              ...                           ...         ...        ...   \n",
       "99995        Booting                           NaN        Soft          0   \n",
       "99996            NaN         LCD Panel, Chassis(2)        Hard          0   \n",
       "99997          Power                           NaN        Soft          0   \n",
       "99998    LCD/Monitor             LCD Panel, Cables        Hard          0   \n",
       "99999            NaN        Motherboard, LCD Panel        Hard          1   \n",
       "\n",
       "       parts_ct  agent_tenure_indays  contact_manager_flg        diagnostics  \\\n",
       "0             3               1018.0                    0           Not_USED   \n",
       "1             2               1018.0                    0           Not_USED   \n",
       "2             1               1018.0                    0           Not_USED   \n",
       "3             1                298.0                    0    Effective_Usage   \n",
       "4             1               1018.0                    0           Not_USED   \n",
       "...         ...                  ...                  ...                ...   \n",
       "99995         0               1978.0                    0           Not_USED   \n",
       "99996         3               1018.0                    0           Not_USED   \n",
       "99997         0                305.0                    0           Not_USED   \n",
       "99998         2                323.0                    0  InEffective_Usage   \n",
       "99999         2               1018.0                    0           Not_USED   \n",
       "\n",
       "                                       repeat_parts_sent     region  \\\n",
       "0                                                    NaN   Hogwarts   \n",
       "1                                                    NaN   Hogwarts   \n",
       "2      Motherboard, Miscellaneous(2), Hard Drive, Cha...   Hogwarts   \n",
       "3                                                    NaN   Hogwarts   \n",
       "4                                                    NaN   Hogwarts   \n",
       "...                                                  ...        ...   \n",
       "99995                                                NaN   Hogwarts   \n",
       "99996                                            Chassis   Hogwarts   \n",
       "99997                                                NaN  Milky Way   \n",
       "99998                                                NaN   Hogwarts   \n",
       "99999                         Motherboard, Documentation   Hogwarts   \n",
       "\n",
       "                 country  \n",
       "0                    NaN  \n",
       "1      Zonko's Joke Shop  \n",
       "2      Zonko's Joke Shop  \n",
       "3      Zonko's Joke Shop  \n",
       "4      Zonko's Joke Shop  \n",
       "...                  ...  \n",
       "99995  Zonko's Joke Shop  \n",
       "99996  Zonko's Joke Shop  \n",
       "99997             Merope  \n",
       "99998  Zonko's Joke Shop  \n",
       "99999  Zonko's Joke Shop  \n",
       "\n",
       "[100000 rows x 19 columns]"
      ]
     },
     "execution_count": 2,
     "metadata": {},
     "output_type": "execute_result"
    }
   ],
   "source": [
    "dataset = pd.read_csv(r\"C:\\Users\\Dell\\Desktop\\liquiloans\\GSPE_DE_dataset\\GSPE_DE_dataset.csv\")\n",
    "dataset"
   ]
  },
  {
   "cell_type": "markdown",
   "id": "bcaf2be5",
   "metadata": {},
   "source": [
    "# Makeing a copy of dataset"
   ]
  },
  {
   "cell_type": "code",
   "execution_count": 3,
   "id": "f83995a7",
   "metadata": {},
   "outputs": [],
   "source": [
    "dataset_copy = dataset.copy()"
   ]
  },
  {
   "cell_type": "code",
   "execution_count": 4,
   "id": "6ac9e1e6",
   "metadata": {},
   "outputs": [
    {
     "data": {
      "text/html": [
       "<div>\n",
       "<style scoped>\n",
       "    .dataframe tbody tr th:only-of-type {\n",
       "        vertical-align: middle;\n",
       "    }\n",
       "\n",
       "    .dataframe tbody tr th {\n",
       "        vertical-align: top;\n",
       "    }\n",
       "\n",
       "    .dataframe thead th {\n",
       "        text-align: right;\n",
       "    }\n",
       "</style>\n",
       "<table border=\"1\" class=\"dataframe\">\n",
       "  <thead>\n",
       "    <tr style=\"text-align: right;\">\n",
       "      <th></th>\n",
       "      <th>asst_id</th>\n",
       "      <th>product_type</th>\n",
       "      <th>manufacture_date</th>\n",
       "      <th>contract_start</th>\n",
       "      <th>contract_end</th>\n",
       "      <th>contact_date</th>\n",
       "      <th>contact_type</th>\n",
       "      <th>issue_type</th>\n",
       "      <th>topic_category</th>\n",
       "      <th>parts_sent</th>\n",
       "      <th>repair_type</th>\n",
       "      <th>repeat_ct</th>\n",
       "      <th>parts_ct</th>\n",
       "      <th>agent_tenure_indays</th>\n",
       "      <th>contact_manager_flg</th>\n",
       "      <th>diagnostics</th>\n",
       "      <th>repeat_parts_sent</th>\n",
       "      <th>region</th>\n",
       "      <th>country</th>\n",
       "    </tr>\n",
       "  </thead>\n",
       "  <tbody>\n",
       "    <tr>\n",
       "      <th>0</th>\n",
       "      <td>0</td>\n",
       "      <td>Laptops</td>\n",
       "      <td>6/26/2017</td>\n",
       "      <td>6/26/2017</td>\n",
       "      <td>6/21/2021</td>\n",
       "      <td>10/1/2018</td>\n",
       "      <td>Voice</td>\n",
       "      <td>NaN</td>\n",
       "      <td>NaN</td>\n",
       "      <td>Hard Drive, Documentation(2)</td>\n",
       "      <td>Hard</td>\n",
       "      <td>0</td>\n",
       "      <td>3</td>\n",
       "      <td>1018.0</td>\n",
       "      <td>0</td>\n",
       "      <td>Not_USED</td>\n",
       "      <td>NaN</td>\n",
       "      <td>Hogwarts</td>\n",
       "      <td>NaN</td>\n",
       "    </tr>\n",
       "    <tr>\n",
       "      <th>1</th>\n",
       "      <td>1</td>\n",
       "      <td>Laptops</td>\n",
       "      <td>12/12/2016</td>\n",
       "      <td>12/12/2016</td>\n",
       "      <td>12/2/2019</td>\n",
       "      <td>10/1/2018</td>\n",
       "      <td>Voice</td>\n",
       "      <td>NaN</td>\n",
       "      <td>NaN</td>\n",
       "      <td>Speaker, Chassis</td>\n",
       "      <td>Hard</td>\n",
       "      <td>0</td>\n",
       "      <td>2</td>\n",
       "      <td>1018.0</td>\n",
       "      <td>0</td>\n",
       "      <td>Not_USED</td>\n",
       "      <td>NaN</td>\n",
       "      <td>Hogwarts</td>\n",
       "      <td>Zonko's Joke Shop</td>\n",
       "    </tr>\n",
       "    <tr>\n",
       "      <th>2</th>\n",
       "      <td>2</td>\n",
       "      <td>Laptops</td>\n",
       "      <td>5/21/2018</td>\n",
       "      <td>5/21/2018</td>\n",
       "      <td>5/30/2022</td>\n",
       "      <td>10/1/2018</td>\n",
       "      <td>Voice</td>\n",
       "      <td>NaN</td>\n",
       "      <td>NaN</td>\n",
       "      <td>Cables</td>\n",
       "      <td>Hard</td>\n",
       "      <td>0</td>\n",
       "      <td>1</td>\n",
       "      <td>1018.0</td>\n",
       "      <td>0</td>\n",
       "      <td>Not_USED</td>\n",
       "      <td>Motherboard, Miscellaneous(2), Hard Drive, Cha...</td>\n",
       "      <td>Hogwarts</td>\n",
       "      <td>Zonko's Joke Shop</td>\n",
       "    </tr>\n",
       "    <tr>\n",
       "      <th>3</th>\n",
       "      <td>3</td>\n",
       "      <td>Laptops</td>\n",
       "      <td>2/22/2016</td>\n",
       "      <td>2/22/2016</td>\n",
       "      <td>2/18/2019</td>\n",
       "      <td>10/1/2018</td>\n",
       "      <td>VOICE</td>\n",
       "      <td>Hard Drive</td>\n",
       "      <td>Booting</td>\n",
       "      <td>Hard Drive</td>\n",
       "      <td>Hard</td>\n",
       "      <td>0</td>\n",
       "      <td>1</td>\n",
       "      <td>298.0</td>\n",
       "      <td>0</td>\n",
       "      <td>Effective_Usage</td>\n",
       "      <td>NaN</td>\n",
       "      <td>Hogwarts</td>\n",
       "      <td>Zonko's Joke Shop</td>\n",
       "    </tr>\n",
       "    <tr>\n",
       "      <th>4</th>\n",
       "      <td>4</td>\n",
       "      <td>Laptops</td>\n",
       "      <td>8/7/2017</td>\n",
       "      <td>8/7/2017</td>\n",
       "      <td>8/3/2020</td>\n",
       "      <td>10/1/2018</td>\n",
       "      <td>Voice</td>\n",
       "      <td>NaN</td>\n",
       "      <td>NaN</td>\n",
       "      <td>Battery (Notebook)</td>\n",
       "      <td>Hard</td>\n",
       "      <td>0</td>\n",
       "      <td>1</td>\n",
       "      <td>1018.0</td>\n",
       "      <td>0</td>\n",
       "      <td>Not_USED</td>\n",
       "      <td>NaN</td>\n",
       "      <td>Hogwarts</td>\n",
       "      <td>Zonko's Joke Shop</td>\n",
       "    </tr>\n",
       "    <tr>\n",
       "      <th>...</th>\n",
       "      <td>...</td>\n",
       "      <td>...</td>\n",
       "      <td>...</td>\n",
       "      <td>...</td>\n",
       "      <td>...</td>\n",
       "      <td>...</td>\n",
       "      <td>...</td>\n",
       "      <td>...</td>\n",
       "      <td>...</td>\n",
       "      <td>...</td>\n",
       "      <td>...</td>\n",
       "      <td>...</td>\n",
       "      <td>...</td>\n",
       "      <td>...</td>\n",
       "      <td>...</td>\n",
       "      <td>...</td>\n",
       "      <td>...</td>\n",
       "      <td>...</td>\n",
       "      <td>...</td>\n",
       "    </tr>\n",
       "    <tr>\n",
       "      <th>99995</th>\n",
       "      <td>16660</td>\n",
       "      <td>Laptops</td>\n",
       "      <td>7/25/2016</td>\n",
       "      <td>7/25/2016</td>\n",
       "      <td>7/22/2019</td>\n",
       "      <td>10/1/2018</td>\n",
       "      <td>VOICE</td>\n",
       "      <td>Information Status</td>\n",
       "      <td>Booting</td>\n",
       "      <td>NaN</td>\n",
       "      <td>Soft</td>\n",
       "      <td>0</td>\n",
       "      <td>0</td>\n",
       "      <td>1978.0</td>\n",
       "      <td>0</td>\n",
       "      <td>Not_USED</td>\n",
       "      <td>NaN</td>\n",
       "      <td>Hogwarts</td>\n",
       "      <td>Zonko's Joke Shop</td>\n",
       "    </tr>\n",
       "    <tr>\n",
       "      <th>99996</th>\n",
       "      <td>16661</td>\n",
       "      <td>Laptops</td>\n",
       "      <td>5/1/2017</td>\n",
       "      <td>5/1/2017</td>\n",
       "      <td>5/31/2021</td>\n",
       "      <td>10/1/2018</td>\n",
       "      <td>Voice</td>\n",
       "      <td>NaN</td>\n",
       "      <td>NaN</td>\n",
       "      <td>LCD Panel, Chassis(2)</td>\n",
       "      <td>Hard</td>\n",
       "      <td>0</td>\n",
       "      <td>3</td>\n",
       "      <td>1018.0</td>\n",
       "      <td>0</td>\n",
       "      <td>Not_USED</td>\n",
       "      <td>Chassis</td>\n",
       "      <td>Hogwarts</td>\n",
       "      <td>Zonko's Joke Shop</td>\n",
       "    </tr>\n",
       "    <tr>\n",
       "      <th>99997</th>\n",
       "      <td>16662</td>\n",
       "      <td>Desktops</td>\n",
       "      <td>2/15/2016</td>\n",
       "      <td>2/15/2016</td>\n",
       "      <td>2/15/2021</td>\n",
       "      <td>10/1/2018</td>\n",
       "      <td>VOICE</td>\n",
       "      <td>Information Status</td>\n",
       "      <td>Power</td>\n",
       "      <td>NaN</td>\n",
       "      <td>Soft</td>\n",
       "      <td>0</td>\n",
       "      <td>0</td>\n",
       "      <td>305.0</td>\n",
       "      <td>0</td>\n",
       "      <td>Not_USED</td>\n",
       "      <td>NaN</td>\n",
       "      <td>Milky Way</td>\n",
       "      <td>Merope</td>\n",
       "    </tr>\n",
       "    <tr>\n",
       "      <th>99998</th>\n",
       "      <td>16663</td>\n",
       "      <td>Laptops</td>\n",
       "      <td>12/21/2015</td>\n",
       "      <td>12/21/2015</td>\n",
       "      <td>12/25/2023</td>\n",
       "      <td>10/1/2018</td>\n",
       "      <td>CHAT</td>\n",
       "      <td>Audio, Video, Speakers, TV Tuner</td>\n",
       "      <td>LCD/Monitor</td>\n",
       "      <td>LCD Panel, Cables</td>\n",
       "      <td>Hard</td>\n",
       "      <td>0</td>\n",
       "      <td>2</td>\n",
       "      <td>323.0</td>\n",
       "      <td>0</td>\n",
       "      <td>InEffective_Usage</td>\n",
       "      <td>NaN</td>\n",
       "      <td>Hogwarts</td>\n",
       "      <td>Zonko's Joke Shop</td>\n",
       "    </tr>\n",
       "    <tr>\n",
       "      <th>99999</th>\n",
       "      <td>16664</td>\n",
       "      <td>Desktops</td>\n",
       "      <td>5/8/2017</td>\n",
       "      <td>5/8/2017</td>\n",
       "      <td>4/27/2020</td>\n",
       "      <td>10/1/2018</td>\n",
       "      <td>Voice</td>\n",
       "      <td>NaN</td>\n",
       "      <td>NaN</td>\n",
       "      <td>Motherboard, LCD Panel</td>\n",
       "      <td>Hard</td>\n",
       "      <td>1</td>\n",
       "      <td>2</td>\n",
       "      <td>1018.0</td>\n",
       "      <td>0</td>\n",
       "      <td>Not_USED</td>\n",
       "      <td>Motherboard, Documentation</td>\n",
       "      <td>Hogwarts</td>\n",
       "      <td>Zonko's Joke Shop</td>\n",
       "    </tr>\n",
       "  </tbody>\n",
       "</table>\n",
       "<p>100000 rows × 19 columns</p>\n",
       "</div>"
      ],
      "text/plain": [
       "       asst_id product_type manufacture_date contract_start contract_end  \\\n",
       "0            0      Laptops        6/26/2017      6/26/2017    6/21/2021   \n",
       "1            1      Laptops       12/12/2016     12/12/2016    12/2/2019   \n",
       "2            2      Laptops        5/21/2018      5/21/2018    5/30/2022   \n",
       "3            3      Laptops        2/22/2016      2/22/2016    2/18/2019   \n",
       "4            4      Laptops         8/7/2017       8/7/2017     8/3/2020   \n",
       "...        ...          ...              ...            ...          ...   \n",
       "99995    16660      Laptops        7/25/2016      7/25/2016    7/22/2019   \n",
       "99996    16661      Laptops         5/1/2017       5/1/2017    5/31/2021   \n",
       "99997    16662     Desktops        2/15/2016      2/15/2016    2/15/2021   \n",
       "99998    16663      Laptops       12/21/2015     12/21/2015   12/25/2023   \n",
       "99999    16664     Desktops         5/8/2017       5/8/2017    4/27/2020   \n",
       "\n",
       "      contact_date contact_type                        issue_type  \\\n",
       "0        10/1/2018        Voice                               NaN   \n",
       "1        10/1/2018        Voice                               NaN   \n",
       "2        10/1/2018        Voice                               NaN   \n",
       "3        10/1/2018        VOICE                        Hard Drive   \n",
       "4        10/1/2018        Voice                               NaN   \n",
       "...            ...          ...                               ...   \n",
       "99995    10/1/2018        VOICE                Information Status   \n",
       "99996    10/1/2018        Voice                               NaN   \n",
       "99997    10/1/2018        VOICE                Information Status   \n",
       "99998    10/1/2018         CHAT  Audio, Video, Speakers, TV Tuner   \n",
       "99999    10/1/2018        Voice                               NaN   \n",
       "\n",
       "      topic_category                    parts_sent repair_type  repeat_ct  \\\n",
       "0                NaN  Hard Drive, Documentation(2)        Hard          0   \n",
       "1                NaN              Speaker, Chassis        Hard          0   \n",
       "2                NaN                        Cables        Hard          0   \n",
       "3            Booting                    Hard Drive        Hard          0   \n",
       "4                NaN            Battery (Notebook)        Hard          0   \n",
       "...              ...                           ...         ...        ...   \n",
       "99995        Booting                           NaN        Soft          0   \n",
       "99996            NaN         LCD Panel, Chassis(2)        Hard          0   \n",
       "99997          Power                           NaN        Soft          0   \n",
       "99998    LCD/Monitor             LCD Panel, Cables        Hard          0   \n",
       "99999            NaN        Motherboard, LCD Panel        Hard          1   \n",
       "\n",
       "       parts_ct  agent_tenure_indays  contact_manager_flg        diagnostics  \\\n",
       "0             3               1018.0                    0           Not_USED   \n",
       "1             2               1018.0                    0           Not_USED   \n",
       "2             1               1018.0                    0           Not_USED   \n",
       "3             1                298.0                    0    Effective_Usage   \n",
       "4             1               1018.0                    0           Not_USED   \n",
       "...         ...                  ...                  ...                ...   \n",
       "99995         0               1978.0                    0           Not_USED   \n",
       "99996         3               1018.0                    0           Not_USED   \n",
       "99997         0                305.0                    0           Not_USED   \n",
       "99998         2                323.0                    0  InEffective_Usage   \n",
       "99999         2               1018.0                    0           Not_USED   \n",
       "\n",
       "                                       repeat_parts_sent     region  \\\n",
       "0                                                    NaN   Hogwarts   \n",
       "1                                                    NaN   Hogwarts   \n",
       "2      Motherboard, Miscellaneous(2), Hard Drive, Cha...   Hogwarts   \n",
       "3                                                    NaN   Hogwarts   \n",
       "4                                                    NaN   Hogwarts   \n",
       "...                                                  ...        ...   \n",
       "99995                                                NaN   Hogwarts   \n",
       "99996                                            Chassis   Hogwarts   \n",
       "99997                                                NaN  Milky Way   \n",
       "99998                                                NaN   Hogwarts   \n",
       "99999                         Motherboard, Documentation   Hogwarts   \n",
       "\n",
       "                 country  \n",
       "0                    NaN  \n",
       "1      Zonko's Joke Shop  \n",
       "2      Zonko's Joke Shop  \n",
       "3      Zonko's Joke Shop  \n",
       "4      Zonko's Joke Shop  \n",
       "...                  ...  \n",
       "99995  Zonko's Joke Shop  \n",
       "99996  Zonko's Joke Shop  \n",
       "99997             Merope  \n",
       "99998  Zonko's Joke Shop  \n",
       "99999  Zonko's Joke Shop  \n",
       "\n",
       "[100000 rows x 19 columns]"
      ]
     },
     "execution_count": 4,
     "metadata": {},
     "output_type": "execute_result"
    }
   ],
   "source": [
    "dataset_copy"
   ]
  },
  {
   "cell_type": "markdown",
   "id": "7e4f93d0",
   "metadata": {},
   "source": [
    "# Droping duplicate values"
   ]
  },
  {
   "cell_type": "code",
   "execution_count": 5,
   "id": "481357bb",
   "metadata": {},
   "outputs": [
    {
     "data": {
      "text/plain": [
       "False    86536\n",
       "True     13464\n",
       "dtype: int64"
      ]
     },
     "execution_count": 5,
     "metadata": {},
     "output_type": "execute_result"
    }
   ],
   "source": [
    "dataset.duplicated().value_counts()"
   ]
  },
  {
   "cell_type": "code",
   "execution_count": 6,
   "id": "660392c2",
   "metadata": {},
   "outputs": [],
   "source": [
    "dataset.drop_duplicates(inplace = True)"
   ]
  },
  {
   "cell_type": "code",
   "execution_count": 7,
   "id": "b149b027",
   "metadata": {},
   "outputs": [
    {
     "data": {
      "text/plain": [
       "(86536, 19)"
      ]
     },
     "execution_count": 7,
     "metadata": {},
     "output_type": "execute_result"
    }
   ],
   "source": [
    "dataset.shape"
   ]
  },
  {
   "cell_type": "markdown",
   "id": "9a03f0d3",
   "metadata": {},
   "source": [
    "# Counting null values and droping columnsin which 30% or more null values are present"
   ]
  },
  {
   "cell_type": "code",
   "execution_count": 8,
   "id": "2acc801a",
   "metadata": {
    "scrolled": true
   },
   "outputs": [
    {
     "data": {
      "text/plain": [
       "asst_id                    0\n",
       "product_type              20\n",
       "manufacture_date           0\n",
       "contract_start             0\n",
       "contract_end               0\n",
       "contact_date               0\n",
       "contact_type              10\n",
       "issue_type             12162\n",
       "topic_category         28621\n",
       "parts_sent             39339\n",
       "repair_type                0\n",
       "repeat_ct                  0\n",
       "parts_ct                   0\n",
       "agent_tenure_indays       10\n",
       "contact_manager_flg        0\n",
       "diagnostics                0\n",
       "repeat_parts_sent      74973\n",
       "region                     3\n",
       "country                10002\n",
       "dtype: int64"
      ]
     },
     "execution_count": 8,
     "metadata": {},
     "output_type": "execute_result"
    }
   ],
   "source": [
    "dataset.isnull().sum()"
   ]
  },
  {
   "cell_type": "code",
   "execution_count": 9,
   "id": "fead796a",
   "metadata": {},
   "outputs": [
    {
     "data": {
      "text/plain": [
       "asst_id                 0.000000\n",
       "product_type            0.023112\n",
       "manufacture_date        0.000000\n",
       "contract_start          0.000000\n",
       "contract_end            0.000000\n",
       "contact_date            0.000000\n",
       "contact_type            0.011556\n",
       "issue_type             14.054266\n",
       "topic_category         33.074096\n",
       "parts_sent             45.459693\n",
       "repair_type             0.000000\n",
       "repeat_ct               0.000000\n",
       "parts_ct                0.000000\n",
       "agent_tenure_indays     0.011556\n",
       "contact_manager_flg     0.000000\n",
       "diagnostics             0.000000\n",
       "repeat_parts_sent      86.637931\n",
       "region                  0.003467\n",
       "country                11.558195\n",
       "dtype: float64"
      ]
     },
     "execution_count": 9,
     "metadata": {},
     "output_type": "execute_result"
    }
   ],
   "source": [
    "null_var = dataset.isnull().sum()*100/dataset.shape[0]\n",
    "null_var"
   ]
  },
  {
   "cell_type": "code",
   "execution_count": 10,
   "id": "954e0ce0",
   "metadata": {},
   "outputs": [
    {
     "data": {
      "text/plain": [
       "Index(['topic_category', 'parts_sent', 'repeat_parts_sent'], dtype='object')"
      ]
     },
     "execution_count": 10,
     "metadata": {},
     "output_type": "execute_result"
    }
   ],
   "source": [
    "drop_columns = null_var[null_var > 30].keys()\n",
    "drop_columns"
   ]
  },
  {
   "cell_type": "code",
   "execution_count": 11,
   "id": "420706f3",
   "metadata": {},
   "outputs": [],
   "source": [
    "dataset.drop(columns = drop_columns, inplace = True)"
   ]
  },
  {
   "cell_type": "code",
   "execution_count": 12,
   "id": "6536f15b",
   "metadata": {},
   "outputs": [
    {
     "data": {
      "text/html": [
       "<div>\n",
       "<style scoped>\n",
       "    .dataframe tbody tr th:only-of-type {\n",
       "        vertical-align: middle;\n",
       "    }\n",
       "\n",
       "    .dataframe tbody tr th {\n",
       "        vertical-align: top;\n",
       "    }\n",
       "\n",
       "    .dataframe thead th {\n",
       "        text-align: right;\n",
       "    }\n",
       "</style>\n",
       "<table border=\"1\" class=\"dataframe\">\n",
       "  <thead>\n",
       "    <tr style=\"text-align: right;\">\n",
       "      <th></th>\n",
       "      <th>asst_id</th>\n",
       "      <th>product_type</th>\n",
       "      <th>manufacture_date</th>\n",
       "      <th>contract_start</th>\n",
       "      <th>contract_end</th>\n",
       "      <th>contact_date</th>\n",
       "      <th>contact_type</th>\n",
       "      <th>issue_type</th>\n",
       "      <th>repair_type</th>\n",
       "      <th>repeat_ct</th>\n",
       "      <th>parts_ct</th>\n",
       "      <th>agent_tenure_indays</th>\n",
       "      <th>contact_manager_flg</th>\n",
       "      <th>diagnostics</th>\n",
       "      <th>region</th>\n",
       "      <th>country</th>\n",
       "    </tr>\n",
       "  </thead>\n",
       "  <tbody>\n",
       "    <tr>\n",
       "      <th>0</th>\n",
       "      <td>0</td>\n",
       "      <td>Laptops</td>\n",
       "      <td>6/26/2017</td>\n",
       "      <td>6/26/2017</td>\n",
       "      <td>6/21/2021</td>\n",
       "      <td>10/1/2018</td>\n",
       "      <td>Voice</td>\n",
       "      <td>NaN</td>\n",
       "      <td>Hard</td>\n",
       "      <td>0</td>\n",
       "      <td>3</td>\n",
       "      <td>1018.0</td>\n",
       "      <td>0</td>\n",
       "      <td>Not_USED</td>\n",
       "      <td>Hogwarts</td>\n",
       "      <td>NaN</td>\n",
       "    </tr>\n",
       "    <tr>\n",
       "      <th>1</th>\n",
       "      <td>1</td>\n",
       "      <td>Laptops</td>\n",
       "      <td>12/12/2016</td>\n",
       "      <td>12/12/2016</td>\n",
       "      <td>12/2/2019</td>\n",
       "      <td>10/1/2018</td>\n",
       "      <td>Voice</td>\n",
       "      <td>NaN</td>\n",
       "      <td>Hard</td>\n",
       "      <td>0</td>\n",
       "      <td>2</td>\n",
       "      <td>1018.0</td>\n",
       "      <td>0</td>\n",
       "      <td>Not_USED</td>\n",
       "      <td>Hogwarts</td>\n",
       "      <td>Zonko's Joke Shop</td>\n",
       "    </tr>\n",
       "    <tr>\n",
       "      <th>2</th>\n",
       "      <td>2</td>\n",
       "      <td>Laptops</td>\n",
       "      <td>5/21/2018</td>\n",
       "      <td>5/21/2018</td>\n",
       "      <td>5/30/2022</td>\n",
       "      <td>10/1/2018</td>\n",
       "      <td>Voice</td>\n",
       "      <td>NaN</td>\n",
       "      <td>Hard</td>\n",
       "      <td>0</td>\n",
       "      <td>1</td>\n",
       "      <td>1018.0</td>\n",
       "      <td>0</td>\n",
       "      <td>Not_USED</td>\n",
       "      <td>Hogwarts</td>\n",
       "      <td>Zonko's Joke Shop</td>\n",
       "    </tr>\n",
       "    <tr>\n",
       "      <th>3</th>\n",
       "      <td>3</td>\n",
       "      <td>Laptops</td>\n",
       "      <td>2/22/2016</td>\n",
       "      <td>2/22/2016</td>\n",
       "      <td>2/18/2019</td>\n",
       "      <td>10/1/2018</td>\n",
       "      <td>VOICE</td>\n",
       "      <td>Hard Drive</td>\n",
       "      <td>Hard</td>\n",
       "      <td>0</td>\n",
       "      <td>1</td>\n",
       "      <td>298.0</td>\n",
       "      <td>0</td>\n",
       "      <td>Effective_Usage</td>\n",
       "      <td>Hogwarts</td>\n",
       "      <td>Zonko's Joke Shop</td>\n",
       "    </tr>\n",
       "    <tr>\n",
       "      <th>4</th>\n",
       "      <td>4</td>\n",
       "      <td>Laptops</td>\n",
       "      <td>8/7/2017</td>\n",
       "      <td>8/7/2017</td>\n",
       "      <td>8/3/2020</td>\n",
       "      <td>10/1/2018</td>\n",
       "      <td>Voice</td>\n",
       "      <td>NaN</td>\n",
       "      <td>Hard</td>\n",
       "      <td>0</td>\n",
       "      <td>1</td>\n",
       "      <td>1018.0</td>\n",
       "      <td>0</td>\n",
       "      <td>Not_USED</td>\n",
       "      <td>Hogwarts</td>\n",
       "      <td>Zonko's Joke Shop</td>\n",
       "    </tr>\n",
       "    <tr>\n",
       "      <th>...</th>\n",
       "      <td>...</td>\n",
       "      <td>...</td>\n",
       "      <td>...</td>\n",
       "      <td>...</td>\n",
       "      <td>...</td>\n",
       "      <td>...</td>\n",
       "      <td>...</td>\n",
       "      <td>...</td>\n",
       "      <td>...</td>\n",
       "      <td>...</td>\n",
       "      <td>...</td>\n",
       "      <td>...</td>\n",
       "      <td>...</td>\n",
       "      <td>...</td>\n",
       "      <td>...</td>\n",
       "      <td>...</td>\n",
       "    </tr>\n",
       "    <tr>\n",
       "      <th>99972</th>\n",
       "      <td>16637</td>\n",
       "      <td>Laptops</td>\n",
       "      <td>6/5/2017</td>\n",
       "      <td>6/5/2017</td>\n",
       "      <td>6/1/2020</td>\n",
       "      <td>10/1/2018</td>\n",
       "      <td>VOICE</td>\n",
       "      <td>Hard Drive</td>\n",
       "      <td>Hard</td>\n",
       "      <td>0</td>\n",
       "      <td>3</td>\n",
       "      <td>676.0</td>\n",
       "      <td>0</td>\n",
       "      <td>InEffective_Usage</td>\n",
       "      <td>Milky Way</td>\n",
       "      <td>Merope</td>\n",
       "    </tr>\n",
       "    <tr>\n",
       "      <th>99980</th>\n",
       "      <td>16645</td>\n",
       "      <td>Laptops</td>\n",
       "      <td>4/11/2016</td>\n",
       "      <td>4/11/2016</td>\n",
       "      <td>4/8/2019</td>\n",
       "      <td>10/1/2018</td>\n",
       "      <td>CHAT</td>\n",
       "      <td>Mechanical Chassis / Rack</td>\n",
       "      <td>Hard</td>\n",
       "      <td>0</td>\n",
       "      <td>4</td>\n",
       "      <td>266.0</td>\n",
       "      <td>0</td>\n",
       "      <td>Not_USED</td>\n",
       "      <td>Hogwarts</td>\n",
       "      <td>NaN</td>\n",
       "    </tr>\n",
       "    <tr>\n",
       "      <th>99982</th>\n",
       "      <td>16647</td>\n",
       "      <td>Laptops</td>\n",
       "      <td>1/1/2018</td>\n",
       "      <td>1/1/2018</td>\n",
       "      <td>1/4/2021</td>\n",
       "      <td>10/1/2018</td>\n",
       "      <td>VOICE</td>\n",
       "      <td>System Board Components</td>\n",
       "      <td>Hard</td>\n",
       "      <td>0</td>\n",
       "      <td>2</td>\n",
       "      <td>514.0</td>\n",
       "      <td>0</td>\n",
       "      <td>Effective_Usage</td>\n",
       "      <td>Milky Way</td>\n",
       "      <td>Merope</td>\n",
       "    </tr>\n",
       "    <tr>\n",
       "      <th>99990</th>\n",
       "      <td>16655</td>\n",
       "      <td>Laptops</td>\n",
       "      <td>1/18/2016</td>\n",
       "      <td>12/21/2015</td>\n",
       "      <td>12/24/2018</td>\n",
       "      <td>10/1/2018</td>\n",
       "      <td>VOICE</td>\n",
       "      <td>Power Subsystem / Cables / AC Adapter</td>\n",
       "      <td>Hard</td>\n",
       "      <td>0</td>\n",
       "      <td>2</td>\n",
       "      <td>695.0</td>\n",
       "      <td>0</td>\n",
       "      <td>Effective_Usage</td>\n",
       "      <td>Hogwarts</td>\n",
       "      <td>NaN</td>\n",
       "    </tr>\n",
       "    <tr>\n",
       "      <th>99992</th>\n",
       "      <td>16657</td>\n",
       "      <td>Laptops</td>\n",
       "      <td>9/5/2016</td>\n",
       "      <td>9/5/2016</td>\n",
       "      <td>9/6/2021</td>\n",
       "      <td>10/1/2018</td>\n",
       "      <td>Voice</td>\n",
       "      <td>NaN</td>\n",
       "      <td>Hard</td>\n",
       "      <td>0</td>\n",
       "      <td>1</td>\n",
       "      <td>1018.0</td>\n",
       "      <td>0</td>\n",
       "      <td>Not_USED</td>\n",
       "      <td>Milky Way</td>\n",
       "      <td>Merope</td>\n",
       "    </tr>\n",
       "  </tbody>\n",
       "</table>\n",
       "<p>86536 rows × 16 columns</p>\n",
       "</div>"
      ],
      "text/plain": [
       "       asst_id product_type manufacture_date contract_start contract_end  \\\n",
       "0            0      Laptops        6/26/2017      6/26/2017    6/21/2021   \n",
       "1            1      Laptops       12/12/2016     12/12/2016    12/2/2019   \n",
       "2            2      Laptops        5/21/2018      5/21/2018    5/30/2022   \n",
       "3            3      Laptops        2/22/2016      2/22/2016    2/18/2019   \n",
       "4            4      Laptops         8/7/2017       8/7/2017     8/3/2020   \n",
       "...        ...          ...              ...            ...          ...   \n",
       "99972    16637      Laptops         6/5/2017       6/5/2017     6/1/2020   \n",
       "99980    16645      Laptops        4/11/2016      4/11/2016     4/8/2019   \n",
       "99982    16647      Laptops         1/1/2018       1/1/2018     1/4/2021   \n",
       "99990    16655      Laptops        1/18/2016     12/21/2015   12/24/2018   \n",
       "99992    16657      Laptops         9/5/2016       9/5/2016     9/6/2021   \n",
       "\n",
       "      contact_date contact_type                             issue_type  \\\n",
       "0        10/1/2018        Voice                                    NaN   \n",
       "1        10/1/2018        Voice                                    NaN   \n",
       "2        10/1/2018        Voice                                    NaN   \n",
       "3        10/1/2018        VOICE                             Hard Drive   \n",
       "4        10/1/2018        Voice                                    NaN   \n",
       "...            ...          ...                                    ...   \n",
       "99972    10/1/2018        VOICE                             Hard Drive   \n",
       "99980    10/1/2018         CHAT              Mechanical Chassis / Rack   \n",
       "99982    10/1/2018        VOICE                System Board Components   \n",
       "99990    10/1/2018        VOICE  Power Subsystem / Cables / AC Adapter   \n",
       "99992    10/1/2018        Voice                                    NaN   \n",
       "\n",
       "      repair_type  repeat_ct  parts_ct  agent_tenure_indays  \\\n",
       "0            Hard          0         3               1018.0   \n",
       "1            Hard          0         2               1018.0   \n",
       "2            Hard          0         1               1018.0   \n",
       "3            Hard          0         1                298.0   \n",
       "4            Hard          0         1               1018.0   \n",
       "...           ...        ...       ...                  ...   \n",
       "99972        Hard          0         3                676.0   \n",
       "99980        Hard          0         4                266.0   \n",
       "99982        Hard          0         2                514.0   \n",
       "99990        Hard          0         2                695.0   \n",
       "99992        Hard          0         1               1018.0   \n",
       "\n",
       "       contact_manager_flg        diagnostics     region            country  \n",
       "0                        0           Not_USED   Hogwarts                NaN  \n",
       "1                        0           Not_USED   Hogwarts  Zonko's Joke Shop  \n",
       "2                        0           Not_USED   Hogwarts  Zonko's Joke Shop  \n",
       "3                        0    Effective_Usage   Hogwarts  Zonko's Joke Shop  \n",
       "4                        0           Not_USED   Hogwarts  Zonko's Joke Shop  \n",
       "...                    ...                ...        ...                ...  \n",
       "99972                    0  InEffective_Usage  Milky Way             Merope  \n",
       "99980                    0           Not_USED   Hogwarts                NaN  \n",
       "99982                    0    Effective_Usage  Milky Way             Merope  \n",
       "99990                    0    Effective_Usage   Hogwarts                NaN  \n",
       "99992                    0           Not_USED  Milky Way             Merope  \n",
       "\n",
       "[86536 rows x 16 columns]"
      ]
     },
     "execution_count": 12,
     "metadata": {},
     "output_type": "execute_result"
    }
   ],
   "source": [
    "dataset"
   ]
  },
  {
   "cell_type": "code",
   "execution_count": 13,
   "id": "403ac459",
   "metadata": {},
   "outputs": [
    {
     "data": {
      "text/plain": [
       "<AxesSubplot:>"
      ]
     },
     "execution_count": 13,
     "metadata": {},
     "output_type": "execute_result"
    },
    {
     "data": {
      "image/png": "[encoded data removed]",
      "text/plain": [
       "<Figure size 1152x648 with 2 Axes>"
      ]
     },
     "metadata": {
      "needs_background": "light"
     },
     "output_type": "display_data"
    }
   ],
   "source": [
    "plt.figure(figsize = (16,9))\n",
    "sns.heatmap(dataset.isnull())"
   ]
  },
  {
   "cell_type": "markdown",
   "id": "2291fe35",
   "metadata": {},
   "source": [
    "# Filling Null values of product_type column"
   ]
  },
  {
   "cell_type": "code",
   "execution_count": 14,
   "id": "00d1bc74",
   "metadata": {},
   "outputs": [
    {
     "data": {
      "text/plain": [
       "asst_id                    0\n",
       "product_type              20\n",
       "manufacture_date           0\n",
       "contract_start             0\n",
       "contract_end               0\n",
       "contact_date               0\n",
       "contact_type              10\n",
       "issue_type             12162\n",
       "repair_type                0\n",
       "repeat_ct                  0\n",
       "parts_ct                   0\n",
       "agent_tenure_indays       10\n",
       "contact_manager_flg        0\n",
       "diagnostics                0\n",
       "region                     3\n",
       "country                10002\n",
       "dtype: int64"
      ]
     },
     "execution_count": 14,
     "metadata": {},
     "output_type": "execute_result"
    }
   ],
   "source": [
    "dataset.isnull().sum()"
   ]
  },
  {
   "cell_type": "code",
   "execution_count": 15,
   "id": "1afb6438",
   "metadata": {},
   "outputs": [
    {
     "data": {
      "text/plain": [
       "Laptops              63153\n",
       "Desktops             20461\n",
       "Other Electronics     2902\n",
       "Name: product_type, dtype: int64"
      ]
     },
     "execution_count": 15,
     "metadata": {},
     "output_type": "execute_result"
    }
   ],
   "source": [
    "dataset.product_type.value_counts()"
   ]
  },
  {
   "cell_type": "code",
   "execution_count": 16,
   "id": "914a792a",
   "metadata": {},
   "outputs": [],
   "source": [
    "dataset.product_type.fillna(dataset.product_type.mode()[0], inplace = True)"
   ]
  },
  {
   "cell_type": "code",
   "execution_count": 17,
   "id": "87f92cae",
   "metadata": {},
   "outputs": [
    {
     "data": {
      "text/plain": [
       "asst_id                    0\n",
       "product_type               0\n",
       "manufacture_date           0\n",
       "contract_start             0\n",
       "contract_end               0\n",
       "contact_date               0\n",
       "contact_type              10\n",
       "issue_type             12162\n",
       "repair_type                0\n",
       "repeat_ct                  0\n",
       "parts_ct                   0\n",
       "agent_tenure_indays       10\n",
       "contact_manager_flg        0\n",
       "diagnostics                0\n",
       "region                     3\n",
       "country                10002\n",
       "dtype: int64"
      ]
     },
     "execution_count": 17,
     "metadata": {},
     "output_type": "execute_result"
    }
   ],
   "source": [
    "dataset.isnull().sum()"
   ]
  },
  {
   "cell_type": "markdown",
   "id": "e56b23e1",
   "metadata": {},
   "source": [
    "# Changing datatype of contact_type column"
   ]
  },
  {
   "cell_type": "code",
   "execution_count": 18,
   "id": "a55c5311",
   "metadata": {},
   "outputs": [
    {
     "data": {
      "text/plain": [
       "VOICE      60360\n",
       "CHAT       12478\n",
       "Voice      12465\n",
       "EMAIL       1124\n",
       "Unknown       99\n",
       "Name: contact_type, dtype: int64"
      ]
     },
     "execution_count": 18,
     "metadata": {},
     "output_type": "execute_result"
    }
   ],
   "source": [
    "dataset.contact_type.value_counts()"
   ]
  },
  {
   "cell_type": "code",
   "execution_count": 19,
   "id": "f1feb67a",
   "metadata": {},
   "outputs": [],
   "source": [
    "dataset[\"contact_type\"] = dataset[\"contact_type\"].str.title()"
   ]
  },
  {
   "cell_type": "code",
   "execution_count": 20,
   "id": "9ff94f63",
   "metadata": {},
   "outputs": [
    {
     "data": {
      "text/plain": [
       "0        Voice\n",
       "1        Voice\n",
       "2        Voice\n",
       "3        Voice\n",
       "4        Voice\n",
       "         ...  \n",
       "99972    Voice\n",
       "99980     Chat\n",
       "99982    Voice\n",
       "99990    Voice\n",
       "99992    Voice\n",
       "Name: contact_type, Length: 86536, dtype: object"
      ]
     },
     "execution_count": 20,
     "metadata": {},
     "output_type": "execute_result"
    }
   ],
   "source": [
    "dataset['contact_type']"
   ]
  },
  {
   "cell_type": "code",
   "execution_count": 21,
   "id": "c43e8634",
   "metadata": {},
   "outputs": [
    {
     "data": {
      "text/plain": [
       "asst_id                    0\n",
       "product_type               0\n",
       "manufacture_date           0\n",
       "contract_start             0\n",
       "contract_end               0\n",
       "contact_date               0\n",
       "contact_type              10\n",
       "issue_type             12162\n",
       "repair_type                0\n",
       "repeat_ct                  0\n",
       "parts_ct                   0\n",
       "agent_tenure_indays       10\n",
       "contact_manager_flg        0\n",
       "diagnostics                0\n",
       "region                     3\n",
       "country                10002\n",
       "dtype: int64"
      ]
     },
     "execution_count": 21,
     "metadata": {},
     "output_type": "execute_result"
    }
   ],
   "source": [
    "dataset.isnull().sum()"
   ]
  },
  {
   "cell_type": "markdown",
   "id": "9d0adb54",
   "metadata": {},
   "source": [
    "# Filling Null values of region column"
   ]
  },
  {
   "cell_type": "code",
   "execution_count": 22,
   "id": "4fb2cd11",
   "metadata": {},
   "outputs": [
    {
     "data": {
      "text/plain": [
       "Hogwarts        60538\n",
       "Middle Earth    20904\n",
       "Milky Way        5091\n",
       "Name: region, dtype: int64"
      ]
     },
     "execution_count": 22,
     "metadata": {},
     "output_type": "execute_result"
    }
   ],
   "source": [
    "dataset['region'].value_counts()"
   ]
  },
  {
   "cell_type": "code",
   "execution_count": 23,
   "id": "2a2a68b9",
   "metadata": {},
   "outputs": [],
   "source": [
    "dataset['region'].fillna(dataset['region'].mode()[0], inplace=True)"
   ]
  },
  {
   "cell_type": "code",
   "execution_count": 24,
   "id": "fa32a9cc",
   "metadata": {},
   "outputs": [
    {
     "data": {
      "text/plain": [
       "Hogwarts        60541\n",
       "Middle Earth    20904\n",
       "Milky Way        5091\n",
       "Name: region, dtype: int64"
      ]
     },
     "execution_count": 24,
     "metadata": {},
     "output_type": "execute_result"
    }
   ],
   "source": [
    "dataset['region'].value_counts()"
   ]
  },
  {
   "cell_type": "markdown",
   "id": "337892cd",
   "metadata": {},
   "source": [
    "# Filling Null values of agent_tenure_indays column"
   ]
  },
  {
   "cell_type": "code",
   "execution_count": 25,
   "id": "ce1ea1f9",
   "metadata": {},
   "outputs": [],
   "source": [
    "dataset.agent_tenure_indays.fillna(dataset.agent_tenure_indays.median(), inplace = True)"
   ]
  },
  {
   "cell_type": "code",
   "execution_count": 26,
   "id": "d0e5a84d",
   "metadata": {},
   "outputs": [
    {
     "data": {
      "text/plain": [
       "asst_id                    0\n",
       "product_type               0\n",
       "manufacture_date           0\n",
       "contract_start             0\n",
       "contract_end               0\n",
       "contact_date               0\n",
       "contact_type              10\n",
       "issue_type             12162\n",
       "repair_type                0\n",
       "repeat_ct                  0\n",
       "parts_ct                   0\n",
       "agent_tenure_indays        0\n",
       "contact_manager_flg        0\n",
       "diagnostics                0\n",
       "region                     0\n",
       "country                10002\n",
       "dtype: int64"
      ]
     },
     "execution_count": 26,
     "metadata": {},
     "output_type": "execute_result"
    }
   ],
   "source": [
    "dataset.isnull().sum()"
   ]
  },
  {
   "cell_type": "code",
   "execution_count": 27,
   "id": "e7ed0358",
   "metadata": {},
   "outputs": [
    {
     "data": {
      "text/plain": [
       "Voice      72825\n",
       "Chat       12478\n",
       "Email       1124\n",
       "Unknown       99\n",
       "Name: contact_type, dtype: int64"
      ]
     },
     "execution_count": 27,
     "metadata": {},
     "output_type": "execute_result"
    }
   ],
   "source": [
    "dataset.contact_type.value_counts()"
   ]
  },
  {
   "cell_type": "markdown",
   "id": "2a6da171",
   "metadata": {},
   "source": [
    "# Filling Null values of contact_type column"
   ]
  },
  {
   "cell_type": "code",
   "execution_count": 28,
   "id": "f30da7fb",
   "metadata": {},
   "outputs": [],
   "source": [
    "dataset.contact_type.fillna(dataset.contact_type.mode()[0], inplace = True)"
   ]
  },
  {
   "cell_type": "code",
   "execution_count": 29,
   "id": "4d9cd97d",
   "metadata": {},
   "outputs": [
    {
     "data": {
      "text/plain": [
       "Voice      72835\n",
       "Chat       12478\n",
       "Email       1124\n",
       "Unknown       99\n",
       "Name: contact_type, dtype: int64"
      ]
     },
     "execution_count": 29,
     "metadata": {},
     "output_type": "execute_result"
    }
   ],
   "source": [
    "dataset.contact_type.value_counts()"
   ]
  },
  {
   "cell_type": "code",
   "execution_count": 30,
   "id": "768c3e46",
   "metadata": {},
   "outputs": [
    {
     "data": {
      "text/plain": [
       "Zonko's Joke Shop    53306\n",
       "Lorien               15694\n",
       "Merope                3829\n",
       "Mordor                2597\n",
       "Pollux                 347\n",
       "The Shire              166\n",
       "Shrieking Shack         77\n",
       "Vega                    61\n",
       "Ravenclaw               53\n",
       "Hufflepuff              45\n",
       "Rohan                   38\n",
       "Polaris                 31\n",
       "Becrux                  24\n",
       "Honeyduke's             21\n",
       "Antares                 21\n",
       "Arcturus                19\n",
       "Capella                 15\n",
       "Gryffindor              14\n",
       "Fangorn                 13\n",
       "Acrux                   13\n",
       "Canopus                 11\n",
       "Sirius                  11\n",
       "Spica                   11\n",
       "Procyon                 10\n",
       "Three Broomsticks       10\n",
       "Regulus                  9\n",
       "Gondor                   8\n",
       "Hobbiton                 6\n",
       "Castor                   6\n",
       "Isengard                 5\n",
       "Pleione                  5\n",
       "Minas Tirith             5\n",
       "Alcor                    4\n",
       "Helm's Deep              4\n",
       "Mirkwood                 4\n",
       "Rigel                    4\n",
       "Mintaka                  3\n",
       "Sabik                    3\n",
       "Erebor                   3\n",
       "Slytherin                3\n",
       "Diagon Alley             3\n",
       "Fomalhaut                3\n",
       "Hog's Head Inn           3\n",
       "Altair                   3\n",
       "Aldebaran                3\n",
       "Bree                     2\n",
       "Muscida                  2\n",
       "Moria                    1\n",
       "Rivendell                1\n",
       "Betelgeuse               1\n",
       "Mizar                    1\n",
       "Rukbat                   1\n",
       "Bellatrix                1\n",
       "Name: country, dtype: int64"
      ]
     },
     "execution_count": 30,
     "metadata": {},
     "output_type": "execute_result"
    }
   ],
   "source": [
    "dataset.country.value_counts()"
   ]
  },
  {
   "cell_type": "markdown",
   "id": "c2ddd606",
   "metadata": {},
   "source": [
    "# Filling Null values of country column"
   ]
  },
  {
   "cell_type": "code",
   "execution_count": 31,
   "id": "647fd78e",
   "metadata": {},
   "outputs": [],
   "source": [
    "dataset['country'] = dataset.groupby('region')['country'].apply(lambda x: x.fillna(x.mode()[0]))"
   ]
  },
  {
   "cell_type": "code",
   "execution_count": 32,
   "id": "1408f658",
   "metadata": {},
   "outputs": [
    {
     "data": {
      "text/plain": [
       "Zonko's Joke Shop    60312\n",
       "Lorien               18051\n",
       "Merope                4468\n",
       "Mordor                2597\n",
       "Pollux                 347\n",
       "The Shire              166\n",
       "Shrieking Shack         77\n",
       "Vega                    61\n",
       "Ravenclaw               53\n",
       "Hufflepuff              45\n",
       "Rohan                   38\n",
       "Polaris                 31\n",
       "Becrux                  24\n",
       "Honeyduke's             21\n",
       "Antares                 21\n",
       "Arcturus                19\n",
       "Capella                 15\n",
       "Gryffindor              14\n",
       "Fangorn                 13\n",
       "Acrux                   13\n",
       "Canopus                 11\n",
       "Sirius                  11\n",
       "Spica                   11\n",
       "Procyon                 10\n",
       "Three Broomsticks       10\n",
       "Regulus                  9\n",
       "Gondor                   8\n",
       "Hobbiton                 6\n",
       "Castor                   6\n",
       "Isengard                 5\n",
       "Pleione                  5\n",
       "Minas Tirith             5\n",
       "Alcor                    4\n",
       "Helm's Deep              4\n",
       "Mirkwood                 4\n",
       "Rigel                    4\n",
       "Mintaka                  3\n",
       "Sabik                    3\n",
       "Erebor                   3\n",
       "Slytherin                3\n",
       "Diagon Alley             3\n",
       "Fomalhaut                3\n",
       "Hog's Head Inn           3\n",
       "Altair                   3\n",
       "Aldebaran                3\n",
       "Bree                     2\n",
       "Muscida                  2\n",
       "Moria                    1\n",
       "Rivendell                1\n",
       "Betelgeuse               1\n",
       "Mizar                    1\n",
       "Rukbat                   1\n",
       "Bellatrix                1\n",
       "Name: country, dtype: int64"
      ]
     },
     "execution_count": 32,
     "metadata": {},
     "output_type": "execute_result"
    }
   ],
   "source": [
    "dataset.country.value_counts()"
   ]
  },
  {
   "cell_type": "code",
   "execution_count": 33,
   "id": "55435752",
   "metadata": {},
   "outputs": [
    {
     "data": {
      "text/plain": [
       "asst_id                    0\n",
       "product_type               0\n",
       "manufacture_date           0\n",
       "contract_start             0\n",
       "contract_end               0\n",
       "contact_date               0\n",
       "contact_type               0\n",
       "issue_type             12162\n",
       "repair_type                0\n",
       "repeat_ct                  0\n",
       "parts_ct                   0\n",
       "agent_tenure_indays        0\n",
       "contact_manager_flg        0\n",
       "diagnostics                0\n",
       "region                     0\n",
       "country                    0\n",
       "dtype: int64"
      ]
     },
     "execution_count": 33,
     "metadata": {},
     "output_type": "execute_result"
    }
   ],
   "source": [
    "dataset.isnull().sum()"
   ]
  },
  {
   "cell_type": "code",
   "execution_count": 34,
   "id": "3b5fb4db",
   "metadata": {},
   "outputs": [
    {
     "data": {
      "text/plain": [
       "System Board Components             11310\n",
       "Fee Based Support                    8829\n",
       "Operating System                     8420\n",
       "Hard Drive                           7355\n",
       "Audio, Video, Speakers, TV Tuner     7297\n",
       "                                    ...  \n",
       "EQL - Hardware                          2\n",
       "Compellent - Hardware                   1\n",
       "MWD                                     1\n",
       "Try & Buy                               1\n",
       "Lost / Stolen in Transit                1\n",
       "Name: issue_type, Length: 82, dtype: int64"
      ]
     },
     "execution_count": 34,
     "metadata": {},
     "output_type": "execute_result"
    }
   ],
   "source": [
    "dataset.issue_type.value_counts()"
   ]
  },
  {
   "cell_type": "markdown",
   "id": "e498921f",
   "metadata": {},
   "source": [
    "# Filling Null values of issue_type column"
   ]
  },
  {
   "cell_type": "code",
   "execution_count": 35,
   "id": "9ee741e2",
   "metadata": {},
   "outputs": [],
   "source": [
    "dataset['issue_type'] = dataset.groupby(['product_type', 'region'])['issue_type'].apply(lambda x: x.fillna(x.mode()[0]))"
   ]
  },
  {
   "cell_type": "code",
   "execution_count": 36,
   "id": "8ffdc28d",
   "metadata": {},
   "outputs": [
    {
     "data": {
      "text/plain": [
       "System Board Components             21218\n",
       "Fee Based Support                   10351\n",
       "Operating System                     8420\n",
       "Audio, Video, Speakers, TV Tuner     7401\n",
       "Hard Drive                           7355\n",
       "                                    ...  \n",
       "EQL - Hardware                          2\n",
       "Compellent - Hardware                   1\n",
       "MWD                                     1\n",
       "Try & Buy                               1\n",
       "Lost / Stolen in Transit                1\n",
       "Name: issue_type, Length: 82, dtype: int64"
      ]
     },
     "execution_count": 36,
     "metadata": {},
     "output_type": "execute_result"
    }
   ],
   "source": [
    "dataset.issue_type.value_counts()"
   ]
  },
  {
   "cell_type": "code",
   "execution_count": 37,
   "id": "497c62af",
   "metadata": {},
   "outputs": [
    {
     "data": {
      "text/plain": [
       "asst_id                0\n",
       "product_type           0\n",
       "manufacture_date       0\n",
       "contract_start         0\n",
       "contract_end           0\n",
       "contact_date           0\n",
       "contact_type           0\n",
       "issue_type             0\n",
       "repair_type            0\n",
       "repeat_ct              0\n",
       "parts_ct               0\n",
       "agent_tenure_indays    0\n",
       "contact_manager_flg    0\n",
       "diagnostics            0\n",
       "region                 0\n",
       "country                0\n",
       "dtype: int64"
      ]
     },
     "execution_count": 37,
     "metadata": {},
     "output_type": "execute_result"
    }
   ],
   "source": [
    "dataset.isnull().sum()"
   ]
  },
  {
   "cell_type": "code",
   "execution_count": 38,
   "id": "a45ae838",
   "metadata": {},
   "outputs": [
    {
     "data": {
      "text/html": [
       "<div>\n",
       "<style scoped>\n",
       "    .dataframe tbody tr th:only-of-type {\n",
       "        vertical-align: middle;\n",
       "    }\n",
       "\n",
       "    .dataframe tbody tr th {\n",
       "        vertical-align: top;\n",
       "    }\n",
       "\n",
       "    .dataframe thead th {\n",
       "        text-align: right;\n",
       "    }\n",
       "</style>\n",
       "<table border=\"1\" class=\"dataframe\">\n",
       "  <thead>\n",
       "    <tr style=\"text-align: right;\">\n",
       "      <th></th>\n",
       "      <th>asst_id</th>\n",
       "      <th>product_type</th>\n",
       "      <th>manufacture_date</th>\n",
       "      <th>contract_start</th>\n",
       "      <th>contract_end</th>\n",
       "      <th>contact_date</th>\n",
       "      <th>contact_type</th>\n",
       "      <th>issue_type</th>\n",
       "      <th>repair_type</th>\n",
       "      <th>repeat_ct</th>\n",
       "      <th>parts_ct</th>\n",
       "      <th>agent_tenure_indays</th>\n",
       "      <th>contact_manager_flg</th>\n",
       "      <th>diagnostics</th>\n",
       "      <th>region</th>\n",
       "      <th>country</th>\n",
       "    </tr>\n",
       "  </thead>\n",
       "  <tbody>\n",
       "    <tr>\n",
       "      <th>0</th>\n",
       "      <td>0</td>\n",
       "      <td>Laptops</td>\n",
       "      <td>6/26/2017</td>\n",
       "      <td>6/26/2017</td>\n",
       "      <td>6/21/2021</td>\n",
       "      <td>10/1/2018</td>\n",
       "      <td>Voice</td>\n",
       "      <td>System Board Components</td>\n",
       "      <td>Hard</td>\n",
       "      <td>0</td>\n",
       "      <td>3</td>\n",
       "      <td>1018.0</td>\n",
       "      <td>0</td>\n",
       "      <td>Not_USED</td>\n",
       "      <td>Hogwarts</td>\n",
       "      <td>Zonko's Joke Shop</td>\n",
       "    </tr>\n",
       "    <tr>\n",
       "      <th>1</th>\n",
       "      <td>1</td>\n",
       "      <td>Laptops</td>\n",
       "      <td>12/12/2016</td>\n",
       "      <td>12/12/2016</td>\n",
       "      <td>12/2/2019</td>\n",
       "      <td>10/1/2018</td>\n",
       "      <td>Voice</td>\n",
       "      <td>System Board Components</td>\n",
       "      <td>Hard</td>\n",
       "      <td>0</td>\n",
       "      <td>2</td>\n",
       "      <td>1018.0</td>\n",
       "      <td>0</td>\n",
       "      <td>Not_USED</td>\n",
       "      <td>Hogwarts</td>\n",
       "      <td>Zonko's Joke Shop</td>\n",
       "    </tr>\n",
       "    <tr>\n",
       "      <th>2</th>\n",
       "      <td>2</td>\n",
       "      <td>Laptops</td>\n",
       "      <td>5/21/2018</td>\n",
       "      <td>5/21/2018</td>\n",
       "      <td>5/30/2022</td>\n",
       "      <td>10/1/2018</td>\n",
       "      <td>Voice</td>\n",
       "      <td>System Board Components</td>\n",
       "      <td>Hard</td>\n",
       "      <td>0</td>\n",
       "      <td>1</td>\n",
       "      <td>1018.0</td>\n",
       "      <td>0</td>\n",
       "      <td>Not_USED</td>\n",
       "      <td>Hogwarts</td>\n",
       "      <td>Zonko's Joke Shop</td>\n",
       "    </tr>\n",
       "    <tr>\n",
       "      <th>3</th>\n",
       "      <td>3</td>\n",
       "      <td>Laptops</td>\n",
       "      <td>2/22/2016</td>\n",
       "      <td>2/22/2016</td>\n",
       "      <td>2/18/2019</td>\n",
       "      <td>10/1/2018</td>\n",
       "      <td>Voice</td>\n",
       "      <td>Hard Drive</td>\n",
       "      <td>Hard</td>\n",
       "      <td>0</td>\n",
       "      <td>1</td>\n",
       "      <td>298.0</td>\n",
       "      <td>0</td>\n",
       "      <td>Effective_Usage</td>\n",
       "      <td>Hogwarts</td>\n",
       "      <td>Zonko's Joke Shop</td>\n",
       "    </tr>\n",
       "    <tr>\n",
       "      <th>4</th>\n",
       "      <td>4</td>\n",
       "      <td>Laptops</td>\n",
       "      <td>8/7/2017</td>\n",
       "      <td>8/7/2017</td>\n",
       "      <td>8/3/2020</td>\n",
       "      <td>10/1/2018</td>\n",
       "      <td>Voice</td>\n",
       "      <td>System Board Components</td>\n",
       "      <td>Hard</td>\n",
       "      <td>0</td>\n",
       "      <td>1</td>\n",
       "      <td>1018.0</td>\n",
       "      <td>0</td>\n",
       "      <td>Not_USED</td>\n",
       "      <td>Hogwarts</td>\n",
       "      <td>Zonko's Joke Shop</td>\n",
       "    </tr>\n",
       "    <tr>\n",
       "      <th>...</th>\n",
       "      <td>...</td>\n",
       "      <td>...</td>\n",
       "      <td>...</td>\n",
       "      <td>...</td>\n",
       "      <td>...</td>\n",
       "      <td>...</td>\n",
       "      <td>...</td>\n",
       "      <td>...</td>\n",
       "      <td>...</td>\n",
       "      <td>...</td>\n",
       "      <td>...</td>\n",
       "      <td>...</td>\n",
       "      <td>...</td>\n",
       "      <td>...</td>\n",
       "      <td>...</td>\n",
       "      <td>...</td>\n",
       "    </tr>\n",
       "    <tr>\n",
       "      <th>99972</th>\n",
       "      <td>16637</td>\n",
       "      <td>Laptops</td>\n",
       "      <td>6/5/2017</td>\n",
       "      <td>6/5/2017</td>\n",
       "      <td>6/1/2020</td>\n",
       "      <td>10/1/2018</td>\n",
       "      <td>Voice</td>\n",
       "      <td>Hard Drive</td>\n",
       "      <td>Hard</td>\n",
       "      <td>0</td>\n",
       "      <td>3</td>\n",
       "      <td>676.0</td>\n",
       "      <td>0</td>\n",
       "      <td>InEffective_Usage</td>\n",
       "      <td>Milky Way</td>\n",
       "      <td>Merope</td>\n",
       "    </tr>\n",
       "    <tr>\n",
       "      <th>99980</th>\n",
       "      <td>16645</td>\n",
       "      <td>Laptops</td>\n",
       "      <td>4/11/2016</td>\n",
       "      <td>4/11/2016</td>\n",
       "      <td>4/8/2019</td>\n",
       "      <td>10/1/2018</td>\n",
       "      <td>Chat</td>\n",
       "      <td>Mechanical Chassis / Rack</td>\n",
       "      <td>Hard</td>\n",
       "      <td>0</td>\n",
       "      <td>4</td>\n",
       "      <td>266.0</td>\n",
       "      <td>0</td>\n",
       "      <td>Not_USED</td>\n",
       "      <td>Hogwarts</td>\n",
       "      <td>Zonko's Joke Shop</td>\n",
       "    </tr>\n",
       "    <tr>\n",
       "      <th>99982</th>\n",
       "      <td>16647</td>\n",
       "      <td>Laptops</td>\n",
       "      <td>1/1/2018</td>\n",
       "      <td>1/1/2018</td>\n",
       "      <td>1/4/2021</td>\n",
       "      <td>10/1/2018</td>\n",
       "      <td>Voice</td>\n",
       "      <td>System Board Components</td>\n",
       "      <td>Hard</td>\n",
       "      <td>0</td>\n",
       "      <td>2</td>\n",
       "      <td>514.0</td>\n",
       "      <td>0</td>\n",
       "      <td>Effective_Usage</td>\n",
       "      <td>Milky Way</td>\n",
       "      <td>Merope</td>\n",
       "    </tr>\n",
       "    <tr>\n",
       "      <th>99990</th>\n",
       "      <td>16655</td>\n",
       "      <td>Laptops</td>\n",
       "      <td>1/18/2016</td>\n",
       "      <td>12/21/2015</td>\n",
       "      <td>12/24/2018</td>\n",
       "      <td>10/1/2018</td>\n",
       "      <td>Voice</td>\n",
       "      <td>Power Subsystem / Cables / AC Adapter</td>\n",
       "      <td>Hard</td>\n",
       "      <td>0</td>\n",
       "      <td>2</td>\n",
       "      <td>695.0</td>\n",
       "      <td>0</td>\n",
       "      <td>Effective_Usage</td>\n",
       "      <td>Hogwarts</td>\n",
       "      <td>Zonko's Joke Shop</td>\n",
       "    </tr>\n",
       "    <tr>\n",
       "      <th>99992</th>\n",
       "      <td>16657</td>\n",
       "      <td>Laptops</td>\n",
       "      <td>9/5/2016</td>\n",
       "      <td>9/5/2016</td>\n",
       "      <td>9/6/2021</td>\n",
       "      <td>10/1/2018</td>\n",
       "      <td>Voice</td>\n",
       "      <td>System Board Components</td>\n",
       "      <td>Hard</td>\n",
       "      <td>0</td>\n",
       "      <td>1</td>\n",
       "      <td>1018.0</td>\n",
       "      <td>0</td>\n",
       "      <td>Not_USED</td>\n",
       "      <td>Milky Way</td>\n",
       "      <td>Merope</td>\n",
       "    </tr>\n",
       "  </tbody>\n",
       "</table>\n",
       "<p>86536 rows × 16 columns</p>\n",
       "</div>"
      ],
      "text/plain": [
       "       asst_id product_type manufacture_date contract_start contract_end  \\\n",
       "0            0      Laptops        6/26/2017      6/26/2017    6/21/2021   \n",
       "1            1      Laptops       12/12/2016     12/12/2016    12/2/2019   \n",
       "2            2      Laptops        5/21/2018      5/21/2018    5/30/2022   \n",
       "3            3      Laptops        2/22/2016      2/22/2016    2/18/2019   \n",
       "4            4      Laptops         8/7/2017       8/7/2017     8/3/2020   \n",
       "...        ...          ...              ...            ...          ...   \n",
       "99972    16637      Laptops         6/5/2017       6/5/2017     6/1/2020   \n",
       "99980    16645      Laptops        4/11/2016      4/11/2016     4/8/2019   \n",
       "99982    16647      Laptops         1/1/2018       1/1/2018     1/4/2021   \n",
       "99990    16655      Laptops        1/18/2016     12/21/2015   12/24/2018   \n",
       "99992    16657      Laptops         9/5/2016       9/5/2016     9/6/2021   \n",
       "\n",
       "      contact_date contact_type                             issue_type  \\\n",
       "0        10/1/2018        Voice                System Board Components   \n",
       "1        10/1/2018        Voice                System Board Components   \n",
       "2        10/1/2018        Voice                System Board Components   \n",
       "3        10/1/2018        Voice                             Hard Drive   \n",
       "4        10/1/2018        Voice                System Board Components   \n",
       "...            ...          ...                                    ...   \n",
       "99972    10/1/2018        Voice                             Hard Drive   \n",
       "99980    10/1/2018         Chat              Mechanical Chassis / Rack   \n",
       "99982    10/1/2018        Voice                System Board Components   \n",
       "99990    10/1/2018        Voice  Power Subsystem / Cables / AC Adapter   \n",
       "99992    10/1/2018        Voice                System Board Components   \n",
       "\n",
       "      repair_type  repeat_ct  parts_ct  agent_tenure_indays  \\\n",
       "0            Hard          0         3               1018.0   \n",
       "1            Hard          0         2               1018.0   \n",
       "2            Hard          0         1               1018.0   \n",
       "3            Hard          0         1                298.0   \n",
       "4            Hard          0         1               1018.0   \n",
       "...           ...        ...       ...                  ...   \n",
       "99972        Hard          0         3                676.0   \n",
       "99980        Hard          0         4                266.0   \n",
       "99982        Hard          0         2                514.0   \n",
       "99990        Hard          0         2                695.0   \n",
       "99992        Hard          0         1               1018.0   \n",
       "\n",
       "       contact_manager_flg        diagnostics     region            country  \n",
       "0                        0           Not_USED   Hogwarts  Zonko's Joke Shop  \n",
       "1                        0           Not_USED   Hogwarts  Zonko's Joke Shop  \n",
       "2                        0           Not_USED   Hogwarts  Zonko's Joke Shop  \n",
       "3                        0    Effective_Usage   Hogwarts  Zonko's Joke Shop  \n",
       "4                        0           Not_USED   Hogwarts  Zonko's Joke Shop  \n",
       "...                    ...                ...        ...                ...  \n",
       "99972                    0  InEffective_Usage  Milky Way             Merope  \n",
       "99980                    0           Not_USED   Hogwarts  Zonko's Joke Shop  \n",
       "99982                    0    Effective_Usage  Milky Way             Merope  \n",
       "99990                    0    Effective_Usage   Hogwarts  Zonko's Joke Shop  \n",
       "99992                    0           Not_USED  Milky Way             Merope  \n",
       "\n",
       "[86536 rows x 16 columns]"
      ]
     },
     "execution_count": 38,
     "metadata": {},
     "output_type": "execute_result"
    }
   ],
   "source": [
    "dataset"
   ]
  },
  {
   "cell_type": "markdown",
   "id": "567322ab",
   "metadata": {},
   "source": [
    "# droping unnecessary column"
   ]
  },
  {
   "cell_type": "code",
   "execution_count": 39,
   "id": "1fc727d6",
   "metadata": {},
   "outputs": [],
   "source": [
    "dataset.drop(columns = 'asst_id',inplace = True)"
   ]
  },
  {
   "cell_type": "code",
   "execution_count": 40,
   "id": "2e746746",
   "metadata": {},
   "outputs": [
    {
     "data": {
      "text/html": [
       "<div>\n",
       "<style scoped>\n",
       "    .dataframe tbody tr th:only-of-type {\n",
       "        vertical-align: middle;\n",
       "    }\n",
       "\n",
       "    .dataframe tbody tr th {\n",
       "        vertical-align: top;\n",
       "    }\n",
       "\n",
       "    .dataframe thead th {\n",
       "        text-align: right;\n",
       "    }\n",
       "</style>\n",
       "<table border=\"1\" class=\"dataframe\">\n",
       "  <thead>\n",
       "    <tr style=\"text-align: right;\">\n",
       "      <th></th>\n",
       "      <th>product_type</th>\n",
       "      <th>manufacture_date</th>\n",
       "      <th>contract_start</th>\n",
       "      <th>contract_end</th>\n",
       "      <th>contact_date</th>\n",
       "      <th>contact_type</th>\n",
       "      <th>issue_type</th>\n",
       "      <th>repair_type</th>\n",
       "      <th>repeat_ct</th>\n",
       "      <th>parts_ct</th>\n",
       "      <th>agent_tenure_indays</th>\n",
       "      <th>contact_manager_flg</th>\n",
       "      <th>diagnostics</th>\n",
       "      <th>region</th>\n",
       "      <th>country</th>\n",
       "    </tr>\n",
       "  </thead>\n",
       "  <tbody>\n",
       "    <tr>\n",
       "      <th>0</th>\n",
       "      <td>Laptops</td>\n",
       "      <td>6/26/2017</td>\n",
       "      <td>6/26/2017</td>\n",
       "      <td>6/21/2021</td>\n",
       "      <td>10/1/2018</td>\n",
       "      <td>Voice</td>\n",
       "      <td>System Board Components</td>\n",
       "      <td>Hard</td>\n",
       "      <td>0</td>\n",
       "      <td>3</td>\n",
       "      <td>1018.0</td>\n",
       "      <td>0</td>\n",
       "      <td>Not_USED</td>\n",
       "      <td>Hogwarts</td>\n",
       "      <td>Zonko's Joke Shop</td>\n",
       "    </tr>\n",
       "    <tr>\n",
       "      <th>1</th>\n",
       "      <td>Laptops</td>\n",
       "      <td>12/12/2016</td>\n",
       "      <td>12/12/2016</td>\n",
       "      <td>12/2/2019</td>\n",
       "      <td>10/1/2018</td>\n",
       "      <td>Voice</td>\n",
       "      <td>System Board Components</td>\n",
       "      <td>Hard</td>\n",
       "      <td>0</td>\n",
       "      <td>2</td>\n",
       "      <td>1018.0</td>\n",
       "      <td>0</td>\n",
       "      <td>Not_USED</td>\n",
       "      <td>Hogwarts</td>\n",
       "      <td>Zonko's Joke Shop</td>\n",
       "    </tr>\n",
       "    <tr>\n",
       "      <th>2</th>\n",
       "      <td>Laptops</td>\n",
       "      <td>5/21/2018</td>\n",
       "      <td>5/21/2018</td>\n",
       "      <td>5/30/2022</td>\n",
       "      <td>10/1/2018</td>\n",
       "      <td>Voice</td>\n",
       "      <td>System Board Components</td>\n",
       "      <td>Hard</td>\n",
       "      <td>0</td>\n",
       "      <td>1</td>\n",
       "      <td>1018.0</td>\n",
       "      <td>0</td>\n",
       "      <td>Not_USED</td>\n",
       "      <td>Hogwarts</td>\n",
       "      <td>Zonko's Joke Shop</td>\n",
       "    </tr>\n",
       "    <tr>\n",
       "      <th>3</th>\n",
       "      <td>Laptops</td>\n",
       "      <td>2/22/2016</td>\n",
       "      <td>2/22/2016</td>\n",
       "      <td>2/18/2019</td>\n",
       "      <td>10/1/2018</td>\n",
       "      <td>Voice</td>\n",
       "      <td>Hard Drive</td>\n",
       "      <td>Hard</td>\n",
       "      <td>0</td>\n",
       "      <td>1</td>\n",
       "      <td>298.0</td>\n",
       "      <td>0</td>\n",
       "      <td>Effective_Usage</td>\n",
       "      <td>Hogwarts</td>\n",
       "      <td>Zonko's Joke Shop</td>\n",
       "    </tr>\n",
       "    <tr>\n",
       "      <th>4</th>\n",
       "      <td>Laptops</td>\n",
       "      <td>8/7/2017</td>\n",
       "      <td>8/7/2017</td>\n",
       "      <td>8/3/2020</td>\n",
       "      <td>10/1/2018</td>\n",
       "      <td>Voice</td>\n",
       "      <td>System Board Components</td>\n",
       "      <td>Hard</td>\n",
       "      <td>0</td>\n",
       "      <td>1</td>\n",
       "      <td>1018.0</td>\n",
       "      <td>0</td>\n",
       "      <td>Not_USED</td>\n",
       "      <td>Hogwarts</td>\n",
       "      <td>Zonko's Joke Shop</td>\n",
       "    </tr>\n",
       "    <tr>\n",
       "      <th>...</th>\n",
       "      <td>...</td>\n",
       "      <td>...</td>\n",
       "      <td>...</td>\n",
       "      <td>...</td>\n",
       "      <td>...</td>\n",
       "      <td>...</td>\n",
       "      <td>...</td>\n",
       "      <td>...</td>\n",
       "      <td>...</td>\n",
       "      <td>...</td>\n",
       "      <td>...</td>\n",
       "      <td>...</td>\n",
       "      <td>...</td>\n",
       "      <td>...</td>\n",
       "      <td>...</td>\n",
       "    </tr>\n",
       "    <tr>\n",
       "      <th>99972</th>\n",
       "      <td>Laptops</td>\n",
       "      <td>6/5/2017</td>\n",
       "      <td>6/5/2017</td>\n",
       "      <td>6/1/2020</td>\n",
       "      <td>10/1/2018</td>\n",
       "      <td>Voice</td>\n",
       "      <td>Hard Drive</td>\n",
       "      <td>Hard</td>\n",
       "      <td>0</td>\n",
       "      <td>3</td>\n",
       "      <td>676.0</td>\n",
       "      <td>0</td>\n",
       "      <td>InEffective_Usage</td>\n",
       "      <td>Milky Way</td>\n",
       "      <td>Merope</td>\n",
       "    </tr>\n",
       "    <tr>\n",
       "      <th>99980</th>\n",
       "      <td>Laptops</td>\n",
       "      <td>4/11/2016</td>\n",
       "      <td>4/11/2016</td>\n",
       "      <td>4/8/2019</td>\n",
       "      <td>10/1/2018</td>\n",
       "      <td>Chat</td>\n",
       "      <td>Mechanical Chassis / Rack</td>\n",
       "      <td>Hard</td>\n",
       "      <td>0</td>\n",
       "      <td>4</td>\n",
       "      <td>266.0</td>\n",
       "      <td>0</td>\n",
       "      <td>Not_USED</td>\n",
       "      <td>Hogwarts</td>\n",
       "      <td>Zonko's Joke Shop</td>\n",
       "    </tr>\n",
       "    <tr>\n",
       "      <th>99982</th>\n",
       "      <td>Laptops</td>\n",
       "      <td>1/1/2018</td>\n",
       "      <td>1/1/2018</td>\n",
       "      <td>1/4/2021</td>\n",
       "      <td>10/1/2018</td>\n",
       "      <td>Voice</td>\n",
       "      <td>System Board Components</td>\n",
       "      <td>Hard</td>\n",
       "      <td>0</td>\n",
       "      <td>2</td>\n",
       "      <td>514.0</td>\n",
       "      <td>0</td>\n",
       "      <td>Effective_Usage</td>\n",
       "      <td>Milky Way</td>\n",
       "      <td>Merope</td>\n",
       "    </tr>\n",
       "    <tr>\n",
       "      <th>99990</th>\n",
       "      <td>Laptops</td>\n",
       "      <td>1/18/2016</td>\n",
       "      <td>12/21/2015</td>\n",
       "      <td>12/24/2018</td>\n",
       "      <td>10/1/2018</td>\n",
       "      <td>Voice</td>\n",
       "      <td>Power Subsystem / Cables / AC Adapter</td>\n",
       "      <td>Hard</td>\n",
       "      <td>0</td>\n",
       "      <td>2</td>\n",
       "      <td>695.0</td>\n",
       "      <td>0</td>\n",
       "      <td>Effective_Usage</td>\n",
       "      <td>Hogwarts</td>\n",
       "      <td>Zonko's Joke Shop</td>\n",
       "    </tr>\n",
       "    <tr>\n",
       "      <th>99992</th>\n",
       "      <td>Laptops</td>\n",
       "      <td>9/5/2016</td>\n",
       "      <td>9/5/2016</td>\n",
       "      <td>9/6/2021</td>\n",
       "      <td>10/1/2018</td>\n",
       "      <td>Voice</td>\n",
       "      <td>System Board Components</td>\n",
       "      <td>Hard</td>\n",
       "      <td>0</td>\n",
       "      <td>1</td>\n",
       "      <td>1018.0</td>\n",
       "      <td>0</td>\n",
       "      <td>Not_USED</td>\n",
       "      <td>Milky Way</td>\n",
       "      <td>Merope</td>\n",
       "    </tr>\n",
       "  </tbody>\n",
       "</table>\n",
       "<p>86536 rows × 15 columns</p>\n",
       "</div>"
      ],
      "text/plain": [
       "      product_type manufacture_date contract_start contract_end contact_date  \\\n",
       "0          Laptops        6/26/2017      6/26/2017    6/21/2021    10/1/2018   \n",
       "1          Laptops       12/12/2016     12/12/2016    12/2/2019    10/1/2018   \n",
       "2          Laptops        5/21/2018      5/21/2018    5/30/2022    10/1/2018   \n",
       "3          Laptops        2/22/2016      2/22/2016    2/18/2019    10/1/2018   \n",
       "4          Laptops         8/7/2017       8/7/2017     8/3/2020    10/1/2018   \n",
       "...            ...              ...            ...          ...          ...   \n",
       "99972      Laptops         6/5/2017       6/5/2017     6/1/2020    10/1/2018   \n",
       "99980      Laptops        4/11/2016      4/11/2016     4/8/2019    10/1/2018   \n",
       "99982      Laptops         1/1/2018       1/1/2018     1/4/2021    10/1/2018   \n",
       "99990      Laptops        1/18/2016     12/21/2015   12/24/2018    10/1/2018   \n",
       "99992      Laptops         9/5/2016       9/5/2016     9/6/2021    10/1/2018   \n",
       "\n",
       "      contact_type                             issue_type repair_type  \\\n",
       "0            Voice                System Board Components        Hard   \n",
       "1            Voice                System Board Components        Hard   \n",
       "2            Voice                System Board Components        Hard   \n",
       "3            Voice                             Hard Drive        Hard   \n",
       "4            Voice                System Board Components        Hard   \n",
       "...            ...                                    ...         ...   \n",
       "99972        Voice                             Hard Drive        Hard   \n",
       "99980         Chat              Mechanical Chassis / Rack        Hard   \n",
       "99982        Voice                System Board Components        Hard   \n",
       "99990        Voice  Power Subsystem / Cables / AC Adapter        Hard   \n",
       "99992        Voice                System Board Components        Hard   \n",
       "\n",
       "       repeat_ct  parts_ct  agent_tenure_indays  contact_manager_flg  \\\n",
       "0              0         3               1018.0                    0   \n",
       "1              0         2               1018.0                    0   \n",
       "2              0         1               1018.0                    0   \n",
       "3              0         1                298.0                    0   \n",
       "4              0         1               1018.0                    0   \n",
       "...          ...       ...                  ...                  ...   \n",
       "99972          0         3                676.0                    0   \n",
       "99980          0         4                266.0                    0   \n",
       "99982          0         2                514.0                    0   \n",
       "99990          0         2                695.0                    0   \n",
       "99992          0         1               1018.0                    0   \n",
       "\n",
       "             diagnostics     region            country  \n",
       "0               Not_USED   Hogwarts  Zonko's Joke Shop  \n",
       "1               Not_USED   Hogwarts  Zonko's Joke Shop  \n",
       "2               Not_USED   Hogwarts  Zonko's Joke Shop  \n",
       "3        Effective_Usage   Hogwarts  Zonko's Joke Shop  \n",
       "4               Not_USED   Hogwarts  Zonko's Joke Shop  \n",
       "...                  ...        ...                ...  \n",
       "99972  InEffective_Usage  Milky Way             Merope  \n",
       "99980           Not_USED   Hogwarts  Zonko's Joke Shop  \n",
       "99982    Effective_Usage  Milky Way             Merope  \n",
       "99990    Effective_Usage   Hogwarts  Zonko's Joke Shop  \n",
       "99992           Not_USED  Milky Way             Merope  \n",
       "\n",
       "[86536 rows x 15 columns]"
      ]
     },
     "execution_count": 40,
     "metadata": {},
     "output_type": "execute_result"
    }
   ],
   "source": [
    "dataset"
   ]
  },
  {
   "cell_type": "markdown",
   "id": "c590beb6",
   "metadata": {},
   "source": [
    "# Changing important dates columns in date datatype"
   ]
  },
  {
   "cell_type": "code",
   "execution_count": 41,
   "id": "1afcb8d8",
   "metadata": {},
   "outputs": [],
   "source": [
    "dataset[[\"manufacture_date\",\"contract_start\",\"contract_end\",\"contact_date\"]] = dataset[[\"manufacture_date\",\"contract_start\",\"contract_end\",\"contact_date\"]].astype('datetime64')"
   ]
  },
  {
   "cell_type": "code",
   "execution_count": 42,
   "id": "aa344eae",
   "metadata": {},
   "outputs": [],
   "source": [
    "dataset['agent_tenure_indays'] = dataset['agent_tenure_indays'].astype(\"int64\")"
   ]
  },
  {
   "cell_type": "code",
   "execution_count": 43,
   "id": "da4a3bdb",
   "metadata": {},
   "outputs": [
    {
     "name": "stdout",
     "output_type": "stream",
     "text": [
      "<class 'pandas.core.frame.DataFrame'>\n",
      "Int64Index: 86536 entries, 0 to 99992\n",
      "Data columns (total 15 columns):\n",
      " #   Column               Non-Null Count  Dtype         \n",
      "---  ------               --------------  -----         \n",
      " 0   product_type         86536 non-null  object        \n",
      " 1   manufacture_date     86536 non-null  datetime64[ns]\n",
      " 2   contract_start       86536 non-null  datetime64[ns]\n",
      " 3   contract_end         86536 non-null  datetime64[ns]\n",
      " 4   contact_date         86536 non-null  datetime64[ns]\n",
      " 5   contact_type         86536 non-null  object        \n",
      " 6   issue_type           86536 non-null  object        \n",
      " 7   repair_type          86536 non-null  object        \n",
      " 8   repeat_ct            86536 non-null  int64         \n",
      " 9   parts_ct             86536 non-null  int64         \n",
      " 10  agent_tenure_indays  86536 non-null  int64         \n",
      " 11  contact_manager_flg  86536 non-null  int64         \n",
      " 12  diagnostics          86536 non-null  object        \n",
      " 13  region               86536 non-null  object        \n",
      " 14  country              86536 non-null  object        \n",
      "dtypes: datetime64[ns](4), int64(4), object(7)\n",
      "memory usage: 13.1+ MB\n"
     ]
    }
   ],
   "source": [
    "dataset.info()"
   ]
  },
  {
   "cell_type": "code",
   "execution_count": 44,
   "id": "64fb3ee0",
   "metadata": {},
   "outputs": [
    {
     "data": {
      "text/html": [
       "<div>\n",
       "<style scoped>\n",
       "    .dataframe tbody tr th:only-of-type {\n",
       "        vertical-align: middle;\n",
       "    }\n",
       "\n",
       "    .dataframe tbody tr th {\n",
       "        vertical-align: top;\n",
       "    }\n",
       "\n",
       "    .dataframe thead th {\n",
       "        text-align: right;\n",
       "    }\n",
       "</style>\n",
       "<table border=\"1\" class=\"dataframe\">\n",
       "  <thead>\n",
       "    <tr style=\"text-align: right;\">\n",
       "      <th></th>\n",
       "      <th>product_type</th>\n",
       "      <th>manufacture_date</th>\n",
       "      <th>contract_start</th>\n",
       "      <th>contract_end</th>\n",
       "      <th>contact_date</th>\n",
       "      <th>contact_type</th>\n",
       "      <th>issue_type</th>\n",
       "      <th>repair_type</th>\n",
       "      <th>repeat_ct</th>\n",
       "      <th>parts_ct</th>\n",
       "      <th>agent_tenure_indays</th>\n",
       "      <th>contact_manager_flg</th>\n",
       "      <th>diagnostics</th>\n",
       "      <th>region</th>\n",
       "      <th>country</th>\n",
       "    </tr>\n",
       "  </thead>\n",
       "  <tbody>\n",
       "    <tr>\n",
       "      <th>0</th>\n",
       "      <td>Laptops</td>\n",
       "      <td>2017-06-26</td>\n",
       "      <td>2017-06-26</td>\n",
       "      <td>2021-06-21</td>\n",
       "      <td>2018-10-01</td>\n",
       "      <td>Voice</td>\n",
       "      <td>System Board Components</td>\n",
       "      <td>Hard</td>\n",
       "      <td>0</td>\n",
       "      <td>3</td>\n",
       "      <td>1018</td>\n",
       "      <td>0</td>\n",
       "      <td>Not_USED</td>\n",
       "      <td>Hogwarts</td>\n",
       "      <td>Zonko's Joke Shop</td>\n",
       "    </tr>\n",
       "    <tr>\n",
       "      <th>1</th>\n",
       "      <td>Laptops</td>\n",
       "      <td>2016-12-12</td>\n",
       "      <td>2016-12-12</td>\n",
       "      <td>2019-12-02</td>\n",
       "      <td>2018-10-01</td>\n",
       "      <td>Voice</td>\n",
       "      <td>System Board Components</td>\n",
       "      <td>Hard</td>\n",
       "      <td>0</td>\n",
       "      <td>2</td>\n",
       "      <td>1018</td>\n",
       "      <td>0</td>\n",
       "      <td>Not_USED</td>\n",
       "      <td>Hogwarts</td>\n",
       "      <td>Zonko's Joke Shop</td>\n",
       "    </tr>\n",
       "    <tr>\n",
       "      <th>2</th>\n",
       "      <td>Laptops</td>\n",
       "      <td>2018-05-21</td>\n",
       "      <td>2018-05-21</td>\n",
       "      <td>2022-05-30</td>\n",
       "      <td>2018-10-01</td>\n",
       "      <td>Voice</td>\n",
       "      <td>System Board Components</td>\n",
       "      <td>Hard</td>\n",
       "      <td>0</td>\n",
       "      <td>1</td>\n",
       "      <td>1018</td>\n",
       "      <td>0</td>\n",
       "      <td>Not_USED</td>\n",
       "      <td>Hogwarts</td>\n",
       "      <td>Zonko's Joke Shop</td>\n",
       "    </tr>\n",
       "    <tr>\n",
       "      <th>3</th>\n",
       "      <td>Laptops</td>\n",
       "      <td>2016-02-22</td>\n",
       "      <td>2016-02-22</td>\n",
       "      <td>2019-02-18</td>\n",
       "      <td>2018-10-01</td>\n",
       "      <td>Voice</td>\n",
       "      <td>Hard Drive</td>\n",
       "      <td>Hard</td>\n",
       "      <td>0</td>\n",
       "      <td>1</td>\n",
       "      <td>298</td>\n",
       "      <td>0</td>\n",
       "      <td>Effective_Usage</td>\n",
       "      <td>Hogwarts</td>\n",
       "      <td>Zonko's Joke Shop</td>\n",
       "    </tr>\n",
       "    <tr>\n",
       "      <th>4</th>\n",
       "      <td>Laptops</td>\n",
       "      <td>2017-08-07</td>\n",
       "      <td>2017-08-07</td>\n",
       "      <td>2020-08-03</td>\n",
       "      <td>2018-10-01</td>\n",
       "      <td>Voice</td>\n",
       "      <td>System Board Components</td>\n",
       "      <td>Hard</td>\n",
       "      <td>0</td>\n",
       "      <td>1</td>\n",
       "      <td>1018</td>\n",
       "      <td>0</td>\n",
       "      <td>Not_USED</td>\n",
       "      <td>Hogwarts</td>\n",
       "      <td>Zonko's Joke Shop</td>\n",
       "    </tr>\n",
       "    <tr>\n",
       "      <th>...</th>\n",
       "      <td>...</td>\n",
       "      <td>...</td>\n",
       "      <td>...</td>\n",
       "      <td>...</td>\n",
       "      <td>...</td>\n",
       "      <td>...</td>\n",
       "      <td>...</td>\n",
       "      <td>...</td>\n",
       "      <td>...</td>\n",
       "      <td>...</td>\n",
       "      <td>...</td>\n",
       "      <td>...</td>\n",
       "      <td>...</td>\n",
       "      <td>...</td>\n",
       "      <td>...</td>\n",
       "    </tr>\n",
       "    <tr>\n",
       "      <th>99972</th>\n",
       "      <td>Laptops</td>\n",
       "      <td>2017-06-05</td>\n",
       "      <td>2017-06-05</td>\n",
       "      <td>2020-06-01</td>\n",
       "      <td>2018-10-01</td>\n",
       "      <td>Voice</td>\n",
       "      <td>Hard Drive</td>\n",
       "      <td>Hard</td>\n",
       "      <td>0</td>\n",
       "      <td>3</td>\n",
       "      <td>676</td>\n",
       "      <td>0</td>\n",
       "      <td>InEffective_Usage</td>\n",
       "      <td>Milky Way</td>\n",
       "      <td>Merope</td>\n",
       "    </tr>\n",
       "    <tr>\n",
       "      <th>99980</th>\n",
       "      <td>Laptops</td>\n",
       "      <td>2016-04-11</td>\n",
       "      <td>2016-04-11</td>\n",
       "      <td>2019-04-08</td>\n",
       "      <td>2018-10-01</td>\n",
       "      <td>Chat</td>\n",
       "      <td>Mechanical Chassis / Rack</td>\n",
       "      <td>Hard</td>\n",
       "      <td>0</td>\n",
       "      <td>4</td>\n",
       "      <td>266</td>\n",
       "      <td>0</td>\n",
       "      <td>Not_USED</td>\n",
       "      <td>Hogwarts</td>\n",
       "      <td>Zonko's Joke Shop</td>\n",
       "    </tr>\n",
       "    <tr>\n",
       "      <th>99982</th>\n",
       "      <td>Laptops</td>\n",
       "      <td>2018-01-01</td>\n",
       "      <td>2018-01-01</td>\n",
       "      <td>2021-01-04</td>\n",
       "      <td>2018-10-01</td>\n",
       "      <td>Voice</td>\n",
       "      <td>System Board Components</td>\n",
       "      <td>Hard</td>\n",
       "      <td>0</td>\n",
       "      <td>2</td>\n",
       "      <td>514</td>\n",
       "      <td>0</td>\n",
       "      <td>Effective_Usage</td>\n",
       "      <td>Milky Way</td>\n",
       "      <td>Merope</td>\n",
       "    </tr>\n",
       "    <tr>\n",
       "      <th>99990</th>\n",
       "      <td>Laptops</td>\n",
       "      <td>2016-01-18</td>\n",
       "      <td>2015-12-21</td>\n",
       "      <td>2018-12-24</td>\n",
       "      <td>2018-10-01</td>\n",
       "      <td>Voice</td>\n",
       "      <td>Power Subsystem / Cables / AC Adapter</td>\n",
       "      <td>Hard</td>\n",
       "      <td>0</td>\n",
       "      <td>2</td>\n",
       "      <td>695</td>\n",
       "      <td>0</td>\n",
       "      <td>Effective_Usage</td>\n",
       "      <td>Hogwarts</td>\n",
       "      <td>Zonko's Joke Shop</td>\n",
       "    </tr>\n",
       "    <tr>\n",
       "      <th>99992</th>\n",
       "      <td>Laptops</td>\n",
       "      <td>2016-09-05</td>\n",
       "      <td>2016-09-05</td>\n",
       "      <td>2021-09-06</td>\n",
       "      <td>2018-10-01</td>\n",
       "      <td>Voice</td>\n",
       "      <td>System Board Components</td>\n",
       "      <td>Hard</td>\n",
       "      <td>0</td>\n",
       "      <td>1</td>\n",
       "      <td>1018</td>\n",
       "      <td>0</td>\n",
       "      <td>Not_USED</td>\n",
       "      <td>Milky Way</td>\n",
       "      <td>Merope</td>\n",
       "    </tr>\n",
       "  </tbody>\n",
       "</table>\n",
       "<p>86536 rows × 15 columns</p>\n",
       "</div>"
      ],
      "text/plain": [
       "      product_type manufacture_date contract_start contract_end contact_date  \\\n",
       "0          Laptops       2017-06-26     2017-06-26   2021-06-21   2018-10-01   \n",
       "1          Laptops       2016-12-12     2016-12-12   2019-12-02   2018-10-01   \n",
       "2          Laptops       2018-05-21     2018-05-21   2022-05-30   2018-10-01   \n",
       "3          Laptops       2016-02-22     2016-02-22   2019-02-18   2018-10-01   \n",
       "4          Laptops       2017-08-07     2017-08-07   2020-08-03   2018-10-01   \n",
       "...            ...              ...            ...          ...          ...   \n",
       "99972      Laptops       2017-06-05     2017-06-05   2020-06-01   2018-10-01   \n",
       "99980      Laptops       2016-04-11     2016-04-11   2019-04-08   2018-10-01   \n",
       "99982      Laptops       2018-01-01     2018-01-01   2021-01-04   2018-10-01   \n",
       "99990      Laptops       2016-01-18     2015-12-21   2018-12-24   2018-10-01   \n",
       "99992      Laptops       2016-09-05     2016-09-05   2021-09-06   2018-10-01   \n",
       "\n",
       "      contact_type                             issue_type repair_type  \\\n",
       "0            Voice                System Board Components        Hard   \n",
       "1            Voice                System Board Components        Hard   \n",
       "2            Voice                System Board Components        Hard   \n",
       "3            Voice                             Hard Drive        Hard   \n",
       "4            Voice                System Board Components        Hard   \n",
       "...            ...                                    ...         ...   \n",
       "99972        Voice                             Hard Drive        Hard   \n",
       "99980         Chat              Mechanical Chassis / Rack        Hard   \n",
       "99982        Voice                System Board Components        Hard   \n",
       "99990        Voice  Power Subsystem / Cables / AC Adapter        Hard   \n",
       "99992        Voice                System Board Components        Hard   \n",
       "\n",
       "       repeat_ct  parts_ct  agent_tenure_indays  contact_manager_flg  \\\n",
       "0              0         3                 1018                    0   \n",
       "1              0         2                 1018                    0   \n",
       "2              0         1                 1018                    0   \n",
       "3              0         1                  298                    0   \n",
       "4              0         1                 1018                    0   \n",
       "...          ...       ...                  ...                  ...   \n",
       "99972          0         3                  676                    0   \n",
       "99980          0         4                  266                    0   \n",
       "99982          0         2                  514                    0   \n",
       "99990          0         2                  695                    0   \n",
       "99992          0         1                 1018                    0   \n",
       "\n",
       "             diagnostics     region            country  \n",
       "0               Not_USED   Hogwarts  Zonko's Joke Shop  \n",
       "1               Not_USED   Hogwarts  Zonko's Joke Shop  \n",
       "2               Not_USED   Hogwarts  Zonko's Joke Shop  \n",
       "3        Effective_Usage   Hogwarts  Zonko's Joke Shop  \n",
       "4               Not_USED   Hogwarts  Zonko's Joke Shop  \n",
       "...                  ...        ...                ...  \n",
       "99972  InEffective_Usage  Milky Way             Merope  \n",
       "99980           Not_USED   Hogwarts  Zonko's Joke Shop  \n",
       "99982    Effective_Usage  Milky Way             Merope  \n",
       "99990    Effective_Usage   Hogwarts  Zonko's Joke Shop  \n",
       "99992           Not_USED  Milky Way             Merope  \n",
       "\n",
       "[86536 rows x 15 columns]"
      ]
     },
     "execution_count": 44,
     "metadata": {},
     "output_type": "execute_result"
    }
   ],
   "source": [
    "dataset"
   ]
  },
  {
   "cell_type": "markdown",
   "id": "1cb842f5",
   "metadata": {},
   "source": [
    "# Doing Some important Data Analysis which will be good to take some important decision"
   ]
  },
  {
   "cell_type": "markdown",
   "id": "cf84dd22",
   "metadata": {},
   "source": [
    "##  1. Which product type has the highest number of warranty claims?"
   ]
  },
  {
   "cell_type": "code",
   "execution_count": 45,
   "id": "78577e3a",
   "metadata": {},
   "outputs": [
    {
     "data": {
      "text/plain": [
       "product_type\n",
       "Laptops              63173\n",
       "Desktops             20461\n",
       "Other Electronics     2902\n",
       "Name: contract_start, dtype: int64"
      ]
     },
     "execution_count": 45,
     "metadata": {},
     "output_type": "execute_result"
    }
   ],
   "source": [
    "# group the data by product_type and count the number of warranty claims for each product type\n",
    "warranty_claims_by_product_type = dataset.groupby('product_type')['contract_start'].count().sort_values(ascending=False)\n",
    "warranty_claims_by_product_type"
   ]
  },
  {
   "cell_type": "code",
   "execution_count": 46,
   "id": "9591c9e9",
   "metadata": {},
   "outputs": [
    {
     "data": {
      "image/png": "[encoded data removed]",
      "text/plain": [
       "<Figure size 504x360 with 1 Axes>"
      ]
     },
     "metadata": {
      "needs_background": "light"
     },
     "output_type": "display_data"
    },
    {
     "name": "stdout",
     "output_type": "stream",
     "text": [
      "Product type with the highest number of warranty claims:  Laptops\n"
     ]
    }
   ],
   "source": [
    "#Plot the graph for count of types of products used\n",
    "plt.figure(figsize = (7,5))\n",
    "\n",
    "sns.countplot(x ='product_type', data = dataset)\n",
    "\n",
    "plt.title(\"Count of Product Type\",color = \"black\",size = 20, fontweight = \"bold\")\n",
    "plt.show()\n",
    "\n",
    "print(\"Product type with the highest number of warranty claims: \", warranty_claims_by_product_type.index[0])"
   ]
  },
  {
   "cell_type": "code",
   "execution_count": 48,
   "id": "bba02a48",
   "metadata": {
    "scrolled": true
   },
   "outputs": [
    {
     "data": {
      "image/png": "[encoded data removed]",
      "text/plain": [
       "<Figure size 720x504 with 1 Axes>"
      ]
     },
     "metadata": {},
     "output_type": "display_data"
    }
   ],
   "source": [
    "#Plot the pie chart for count of types of products used\n",
    "plt.figure(figsize = (10,7))\n",
    "plt.pie(warranty_claims_by_product_type, labels=warranty_claims_by_product_type.index, autopct='%1.1f%%')\n",
    "plt.title('Distribution of Warranty Claims by Product Type',color = \"black\",size = 20, fontweight = \"bold\")\n",
    "plt.legend()\n",
    "plt.show()"
   ]
  },
  {
   "cell_type": "markdown",
   "id": "de40d8c8",
   "metadata": {},
   "source": [
    "# 2. What is the most common issue reported by customers for each product type?"
   ]
  },
  {
   "cell_type": "code",
   "execution_count": 49,
   "id": "85287397",
   "metadata": {},
   "outputs": [
    {
     "data": {
      "text/plain": [
       "product_type\n",
       "Desktops                   Fee Based Support\n",
       "Laptops              System Board Components\n",
       "Other Electronics             Imaging Device\n",
       "Name: issue_type, dtype: object"
      ]
     },
     "execution_count": 49,
     "metadata": {},
     "output_type": "execute_result"
    }
   ],
   "source": [
    "# find the mode of issue_type for each group\n",
    "most_common_issue = dataset.groupby('product_type')['issue_type'].apply(lambda x: x.mode()[0])\n",
    "most_common_issue"
   ]
  },
  {
   "cell_type": "code",
   "execution_count": 50,
   "id": "3da3aeaf",
   "metadata": {},
   "outputs": [
    {
     "data": {
      "text/html": [
       "<div>\n",
       "<style scoped>\n",
       "    .dataframe tbody tr th:only-of-type {\n",
       "        vertical-align: middle;\n",
       "    }\n",
       "\n",
       "    .dataframe tbody tr th {\n",
       "        vertical-align: top;\n",
       "    }\n",
       "\n",
       "    .dataframe thead th {\n",
       "        text-align: right;\n",
       "    }\n",
       "</style>\n",
       "<table border=\"1\" class=\"dataframe\">\n",
       "  <thead>\n",
       "    <tr style=\"text-align: right;\">\n",
       "      <th></th>\n",
       "      <th>product_type</th>\n",
       "      <th>issue_type</th>\n",
       "      <th>count</th>\n",
       "    </tr>\n",
       "  </thead>\n",
       "  <tbody>\n",
       "    <tr>\n",
       "      <th>33</th>\n",
       "      <td>Desktops</td>\n",
       "      <td>Fee Based Support</td>\n",
       "      <td>4599</td>\n",
       "    </tr>\n",
       "    <tr>\n",
       "      <th>143</th>\n",
       "      <td>Laptops</td>\n",
       "      <td>System Board Components</td>\n",
       "      <td>18329</td>\n",
       "    </tr>\n",
       "    <tr>\n",
       "      <th>171</th>\n",
       "      <td>Other Electronics</td>\n",
       "      <td>Imaging Device</td>\n",
       "      <td>1715</td>\n",
       "    </tr>\n",
       "  </tbody>\n",
       "</table>\n",
       "</div>"
      ],
      "text/plain": [
       "          product_type               issue_type  count\n",
       "33            Desktops        Fee Based Support   4599\n",
       "143            Laptops  System Board Components  18329\n",
       "171  Other Electronics           Imaging Device   1715"
      ]
     },
     "execution_count": 50,
     "metadata": {},
     "output_type": "execute_result"
    }
   ],
   "source": [
    "# grouping the data by product type and issue type\n",
    "grouped_data = dataset.groupby(['product_type', 'issue_type'])\n",
    "\n",
    "# counting the number of occurrences for each group\n",
    "count_data = grouped_data.size().reset_index(name='count')\n",
    "\n",
    "# get the most common issues for each product type\n",
    "max_issue = count_data.groupby('product_type')['count'].idxmax()\n",
    "max_issue_data = count_data.loc[max_issue]\n",
    "max_issue_data"
   ]
  },
  {
   "cell_type": "code",
   "execution_count": 51,
   "id": "1f806194",
   "metadata": {},
   "outputs": [
    {
     "data": {
      "image/png": "[encoded data removed]",
      "text/plain": [
       "<Figure size 720x432 with 1 Axes>"
      ]
     },
     "metadata": {},
     "output_type": "display_data"
    }
   ],
   "source": [
    "# plot the horizontal bar chart\n",
    "sns.set_style(\"whitegrid\")\n",
    "plt.figure(figsize=(10, 6))\n",
    "sns.barplot(data=max_issue_data, x='count', y='product_type', hue='issue_type', dodge=False)\n",
    "plt.xlabel('Number of Occurrences',color = \"black\",size = 15, fontweight = \"bold\")\n",
    "plt.ylabel('Product Type',color = \"black\",size = 15, fontweight = \"bold\")\n",
    "plt.title('Most Common Issues Reported by Customers for Each Product Type',color = \"black\",size = 20, fontweight = \"bold\")\n",
    "plt.show()"
   ]
  },
  {
   "cell_type": "markdown",
   "id": "29427428",
   "metadata": {},
   "source": [
    "# 3. Plot the graph for medium of contact"
   ]
  },
  {
   "cell_type": "code",
   "execution_count": 52,
   "id": "291f9ba4",
   "metadata": {},
   "outputs": [
    {
     "data": {
      "image/png": "[encoded data removed]",
      "text/plain": [
       "<Figure size 720x504 with 1 Axes>"
      ]
     },
     "metadata": {},
     "output_type": "display_data"
    }
   ],
   "source": [
    "#Plot the graph for medium of contact\n",
    "\n",
    "plt.figure(figsize = (10,7))\n",
    "sns.countplot(x ='contact_type', data = dataset)\n",
    "plt.title(\"Type of Contact\",color = \"black\",size = 20, fontweight = \"bold\")\n",
    "plt.show()"
   ]
  },
  {
   "cell_type": "markdown",
   "id": "bf74d7b0",
   "metadata": {},
   "source": [
    "# 4. Find any Corelation in the dataset\n"
   ]
  },
  {
   "cell_type": "code",
   "execution_count": 53,
   "id": "dede0053",
   "metadata": {},
   "outputs": [
    {
     "data": {
      "text/html": [
       "<div>\n",
       "<style scoped>\n",
       "    .dataframe tbody tr th:only-of-type {\n",
       "        vertical-align: middle;\n",
       "    }\n",
       "\n",
       "    .dataframe tbody tr th {\n",
       "        vertical-align: top;\n",
       "    }\n",
       "\n",
       "    .dataframe thead th {\n",
       "        text-align: right;\n",
       "    }\n",
       "</style>\n",
       "<table border=\"1\" class=\"dataframe\">\n",
       "  <thead>\n",
       "    <tr style=\"text-align: right;\">\n",
       "      <th></th>\n",
       "      <th>repeat_ct</th>\n",
       "      <th>parts_ct</th>\n",
       "      <th>agent_tenure_indays</th>\n",
       "      <th>contact_manager_flg</th>\n",
       "    </tr>\n",
       "  </thead>\n",
       "  <tbody>\n",
       "    <tr>\n",
       "      <th>repeat_ct</th>\n",
       "      <td>1.000000</td>\n",
       "      <td>0.156486</td>\n",
       "      <td>0.010638</td>\n",
       "      <td>0.025665</td>\n",
       "    </tr>\n",
       "    <tr>\n",
       "      <th>parts_ct</th>\n",
       "      <td>0.156486</td>\n",
       "      <td>1.000000</td>\n",
       "      <td>0.015437</td>\n",
       "      <td>0.035753</td>\n",
       "    </tr>\n",
       "    <tr>\n",
       "      <th>agent_tenure_indays</th>\n",
       "      <td>0.010638</td>\n",
       "      <td>0.015437</td>\n",
       "      <td>1.000000</td>\n",
       "      <td>-0.018653</td>\n",
       "    </tr>\n",
       "    <tr>\n",
       "      <th>contact_manager_flg</th>\n",
       "      <td>0.025665</td>\n",
       "      <td>0.035753</td>\n",
       "      <td>-0.018653</td>\n",
       "      <td>1.000000</td>\n",
       "    </tr>\n",
       "  </tbody>\n",
       "</table>\n",
       "</div>"
      ],
      "text/plain": [
       "                     repeat_ct  parts_ct  agent_tenure_indays  \\\n",
       "repeat_ct             1.000000  0.156486             0.010638   \n",
       "parts_ct              0.156486  1.000000             0.015437   \n",
       "agent_tenure_indays   0.010638  0.015437             1.000000   \n",
       "contact_manager_flg   0.025665  0.035753            -0.018653   \n",
       "\n",
       "                     contact_manager_flg  \n",
       "repeat_ct                       0.025665  \n",
       "parts_ct                        0.035753  \n",
       "agent_tenure_indays            -0.018653  \n",
       "contact_manager_flg             1.000000  "
      ]
     },
     "execution_count": 53,
     "metadata": {},
     "output_type": "execute_result"
    }
   ],
   "source": [
    "dataset.corr()"
   ]
  },
  {
   "cell_type": "code",
   "execution_count": 54,
   "id": "776821f1",
   "metadata": {},
   "outputs": [
    {
     "data": {
      "image/png": "[encoded data removed]",
      "text/plain": [
       "<Figure size 864x360 with 2 Axes>"
      ]
     },
     "metadata": {},
     "output_type": "display_data"
    }
   ],
   "source": [
    "plt.figure(figsize = (12,5))\n",
    "sns.heatmap(dataset.corr(),cmap='coolwarm',annot=True)\n",
    "plt.title(\"Heatmap of Corelation with the data\",color = \"black\",size = 20, fontweight = \"bold\")\n",
    "plt.show()"
   ]
  },
  {
   "cell_type": "markdown",
   "id": "3c6b4707",
   "metadata": {},
   "source": [
    "# 5. Plot the graph for types of repair"
   ]
  },
  {
   "cell_type": "code",
   "execution_count": 55,
   "id": "771c0d9a",
   "metadata": {},
   "outputs": [
    {
     "data": {
      "image/png": "[encoded data removed]",
      "text/plain": [
       "<Figure size 720x504 with 1 Axes>"
      ]
     },
     "metadata": {},
     "output_type": "display_data"
    }
   ],
   "source": [
    "#Plot the graph for types of repair\n",
    "plt.figure(figsize = (10,7))\n",
    "sns.countplot(x ='repair_type', data = dataset)\n",
    "plt.title(\"Type of Repair\",color = \"black\",size = 20, fontweight = \"bold\")\n",
    "plt.show()"
   ]
  },
  {
   "cell_type": "markdown",
   "id": "c6fc6a3a",
   "metadata": {},
   "source": [
    "# 6. What is the average agent tenure in days for each product type?\n"
   ]
  },
  {
   "cell_type": "code",
   "execution_count": 56,
   "id": "9c136e46",
   "metadata": {},
   "outputs": [
    {
     "data": {
      "text/plain": [
       "product_type\n",
       "Other Electronics    1063.136458\n",
       "Laptops               984.898485\n",
       "Desktops              970.131665\n",
       "Name: agent_tenure_indays, dtype: float64"
      ]
     },
     "execution_count": 56,
     "metadata": {},
     "output_type": "execute_result"
    }
   ],
   "source": [
    "# group the data by product type and calculated the mean of agent tenure\n",
    "average_agent_tenure = dataset.groupby('product_type')['agent_tenure_indays'].mean().sort_values(ascending = False)\n",
    "average_agent_tenure"
   ]
  },
  {
   "cell_type": "markdown",
   "id": "6a12cfb1",
   "metadata": {},
   "source": [
    "# Horizontal Bar Chart"
   ]
  },
  {
   "cell_type": "code",
   "execution_count": 57,
   "id": "1c5b3f68",
   "metadata": {},
   "outputs": [
    {
     "data": {
      "image/png": "[encoded data removed]",
      "text/plain": [
       "<Figure size 720x360 with 1 Axes>"
      ]
     },
     "metadata": {},
     "output_type": "display_data"
    }
   ],
   "source": [
    "# create a horizontal bar chart\n",
    "plt.figure(figsize=(10,5))\n",
    "sns.barplot(y=average_agent_tenure.index, x=average_agent_tenure.values, palette='viridis')\n",
    "plt.title('Average Agent Tenure in Days by Product Type',color = \"black\",size = 20, fontweight = \"bold\")\n",
    "plt.xlabel('Average Agent Tenure in Days',color = \"black\",size = 15, fontweight = \"bold\")\n",
    "plt.ylabel('Product Type',color = \"black\",size = 15, fontweight = \"bold\")\n",
    "plt.show()"
   ]
  },
  {
   "cell_type": "markdown",
   "id": "daac629a",
   "metadata": {},
   "source": [
    "# Vertical Bar chart"
   ]
  },
  {
   "cell_type": "code",
   "execution_count": 59,
   "id": "9c6f1502",
   "metadata": {},
   "outputs": [
    {
     "data": {
      "image/png": "[encoded data removed]",
      "text/plain": [
       "<Figure size 864x648 with 1 Axes>"
      ]
     },
     "metadata": {},
     "output_type": "display_data"
    },
    {
     "name": "stdout",
     "output_type": "stream",
     "text": [
      "Maximum average agent tenure by product type : Other Electronics\n"
     ]
    }
   ],
   "source": [
    "plt.figure(figsize = (12,9))\n",
    "\n",
    "# plot a bar chart\n",
    "ax = average_agent_tenure.plot(kind='bar', color=['red', 'green', 'blue'], alpha=0.8)\n",
    "\n",
    "# add labels and title\n",
    "ax.set_xlabel('Product Type',color = \"black\",size = 15, fontweight = \"bold\")\n",
    "ax.set_ylabel('Average Agent Tenure (Days)',color = \"black\",size = 15, fontweight = \"bold\")\n",
    "ax.set_title('Average Agent Tenure by Product Type',color = \"black\",size = 20, fontweight = \"bold\")\n",
    "\n",
    "# add the average values as text inside the bars\n",
    "for i, v in enumerate(average_agent_tenure):\n",
    "    ax.text(i - 0.1, v + 1, str(round(v, 1)), color='black', fontweight='bold')\n",
    "\n",
    "# display the plot\n",
    "plt.show()\n",
    "print(\"Maximum average agent tenure by product type :\",average_agent_tenure.index[0])"
   ]
  },
  {
   "cell_type": "markdown",
   "id": "2f299231",
   "metadata": {},
   "source": [
    "# 7. What is the trend in the number of warranty claims over time?"
   ]
  },
  {
   "cell_type": "code",
   "execution_count": 60,
   "id": "05387b56",
   "metadata": {},
   "outputs": [],
   "source": [
    "# group by month and sum the 'repeat_ct' column\n",
    "warranty_claims_by_month = dataset.groupby(pd.Grouper(key='manufacture_date', freq='M')).agg({'repeat_ct': 'sum'})"
   ]
  },
  {
   "cell_type": "code",
   "execution_count": 61,
   "id": "3441a549",
   "metadata": {},
   "outputs": [
    {
     "data": {
      "image/png": "[encoded data removed]",
      "text/plain": [
       "<Figure size 720x432 with 1 Axes>"
      ]
     },
     "metadata": {},
     "output_type": "display_data"
    }
   ],
   "source": [
    "# plot the line chart\n",
    "plt.figure(figsize=(10,6))\n",
    "plt.plot(warranty_claims_by_month.index, warranty_claims_by_month['repeat_ct'], marker='o')\n",
    "plt.xlabel('Manufacture Date',color = \"black\",size = 15, fontweight = \"bold\")\n",
    "plt.ylabel('Number of Warranty Claims',color = \"black\",size = 15, fontweight = \"bold\")\n",
    "plt.title('Trend in Number of Warranty Claims over Time',color = \"black\",size = 20, fontweight = \"bold\")\n",
    "plt.show()"
   ]
  },
  {
   "cell_type": "markdown",
   "id": "940b10ec",
   "metadata": {},
   "source": [
    "# 8. Are there any specific regions that have a higher number of warranty claims than others?"
   ]
  },
  {
   "cell_type": "code",
   "execution_count": 62,
   "id": "b0d480b1",
   "metadata": {},
   "outputs": [
    {
     "data": {
      "text/plain": [
       "region\n",
       "Hogwarts        60541\n",
       "Middle Earth    20904\n",
       "Milky Way        5091\n",
       "Name: product_type, dtype: int64"
      ]
     },
     "execution_count": 62,
     "metadata": {},
     "output_type": "execute_result"
    }
   ],
   "source": [
    "# group the data by region and calculate the total number of warranty claims in each region\n",
    "claims_by_region = dataset.groupby('region')['product_type'].count()\n",
    "claims_by_region"
   ]
  },
  {
   "cell_type": "code",
   "execution_count": 63,
   "id": "e76d9607",
   "metadata": {},
   "outputs": [
    {
     "data": {
      "image/png": "[encoded data removed]",
      "text/plain": [
       "<Figure size 720x360 with 1 Axes>"
      ]
     },
     "metadata": {},
     "output_type": "display_data"
    },
    {
     "name": "stdout",
     "output_type": "stream",
     "text": [
      "Region where heighest number of warranty claimed is:  Hogwarts\n"
     ]
    }
   ],
   "source": [
    "plt.figure(figsize = (10,5))\n",
    "\n",
    "# plot the results using a bar chart\n",
    "sns.barplot(x = claims_by_region.index, y = claims_by_region.values)\n",
    "\n",
    "# add title and axis labels\n",
    "plt.title('Number of Warranty Claims by Region',color = \"black\",size = 20, fontweight = \"bold\")\n",
    "plt.xlabel('Region',color = \"black\",size = 15, fontweight = \"bold\")\n",
    "plt.ylabel('Number of Claims',color = \"black\",size = 15, fontweight = \"bold\")\n",
    "\n",
    "# show the plot\n",
    "plt.show()\n",
    "print(\"Region where heighest number of warranty claimed is: \", claims_by_region.index[0])"
   ]
  },
  {
   "cell_type": "markdown",
   "id": "e22873e8",
   "metadata": {},
   "source": [
    "# 9. Is there a relationship between the number of parts sent and the product type?"
   ]
  },
  {
   "cell_type": "code",
   "execution_count": 64,
   "id": "2dc31fdd",
   "metadata": {},
   "outputs": [
    {
     "data": {
      "text/plain": [
       "product_type\n",
       "Desktops             0.768975\n",
       "Laptops              1.297659\n",
       "Other Electronics    0.885252\n",
       "Name: parts_ct, dtype: float64"
      ]
     },
     "execution_count": 64,
     "metadata": {},
     "output_type": "execute_result"
    }
   ],
   "source": [
    "\n",
    "# group the data by product type and calculate the average number of parts sent for each product type\n",
    "avg_parts_by_product_type = dataset.groupby('product_type')['parts_ct'].mean()\n",
    "avg_parts_by_product_type"
   ]
  },
  {
   "cell_type": "code",
   "execution_count": 65,
   "id": "297d5260",
   "metadata": {},
   "outputs": [
    {
     "data": {
      "image/png": "[encoded data removed]",
      "text/plain": [
       "<Figure size 720x360 with 1 Axes>"
      ]
     },
     "metadata": {},
     "output_type": "display_data"
    }
   ],
   "source": [
    "plt.figure(figsize = (10,5))\n",
    "\n",
    "# plot the results using a scatter plot\n",
    "plt.scatter(avg_parts_by_product_type.index, avg_parts_by_product_type.values)\n",
    "\n",
    "# add title and axis labels\n",
    "plt.title('Average Number of Parts Sent by Product Type',color = \"black\",size = 20, fontweight = \"bold\")\n",
    "plt.xlabel('Product Type')\n",
    "plt.ylabel('Average Number of Parts Sent',)\n",
    "\n",
    "# show the plot\n",
    "plt.show()"
   ]
  },
  {
   "cell_type": "code",
   "execution_count": 66,
   "id": "326d8d01",
   "metadata": {},
   "outputs": [
    {
     "data": {
      "text/plain": [
       "product_type\n",
       "Desktops             15734\n",
       "Laptops              81977\n",
       "Other Electronics     2569\n",
       "Name: parts_ct, dtype: int64"
      ]
     },
     "execution_count": 66,
     "metadata": {},
     "output_type": "execute_result"
    }
   ],
   "source": [
    "# group the data by product type and calculate the total number of parts sent for each product type\n",
    "parts_sent_by_product_type = dataset.groupby('product_type')['parts_ct'].sum()\n",
    "parts_sent_by_product_type"
   ]
  },
  {
   "cell_type": "code",
   "execution_count": 67,
   "id": "0accd4bf",
   "metadata": {},
   "outputs": [
    {
     "name": "stderr",
     "output_type": "stream",
     "text": [
      "C:\\Users\\Dell\\AppData\\Roaming\\Python\\Python36\\site-packages\\seaborn\\_decorators.py:43: FutureWarning: Pass the following variables as keyword args: x, y. From version 0.12, the only valid positional argument will be `data`, and passing other arguments without an explicit keyword will result in an error or misinterpretation.\n",
      "  FutureWarning\n"
     ]
    },
    {
     "data": {
      "image/png": "[encoded data removed]",
      "text/plain": [
       "<Figure size 432x288 with 1 Axes>"
      ]
     },
     "metadata": {},
     "output_type": "display_data"
    }
   ],
   "source": [
    "# plot the results using a bar chart\n",
    "sns.barplot(parts_sent_by_product_type.index, parts_sent_by_product_type.values)\n",
    "\n",
    "# add title and axis labels\n",
    "plt.title('Total Number of Parts Sent by Product Type', color='black', size=20, fontweight='bold')\n",
    "plt.xlabel('Product Type',color = \"black\",size = 15, fontweight = \"bold\")\n",
    "plt.ylabel('Total Number of Parts Sent',color = \"black\",size = 15, fontweight = \"bold\")\n",
    "\n",
    "# show the plot\n",
    "plt.show()"
   ]
  },
  {
   "cell_type": "code",
   "execution_count": 68,
   "id": "70b61975",
   "metadata": {},
   "outputs": [
    {
     "data": {
      "image/png": "[encoded data removed]",
      "text/plain": [
       "<Figure size 864x504 with 1 Axes>"
      ]
     },
     "metadata": {},
     "output_type": "display_data"
    }
   ],
   "source": [
    "plt.figure(figsize = (12,7))\n",
    "# create a box plot of the number of parts sent for each product type\n",
    "sns.boxplot(x='product_type', y='parts_ct', data=dataset)\n",
    "\n",
    "# add title and axis labels\n",
    "plt.title('Distribution of Number of Parts Sent by Product Type',color = \"black\",size = 20, fontweight = \"bold\")\n",
    "plt.xlabel('Product Type',color = \"black\",size = 15, fontweight = \"bold\")\n",
    "plt.ylabel('Number of Parts Sent',color = \"black\",size = 15, fontweight = \"bold\")\n",
    "\n",
    "# show the plot\n",
    "plt.show()"
   ]
  },
  {
   "cell_type": "markdown",
   "id": "29ddf40d",
   "metadata": {},
   "source": [
    "# 10. What is the distribution of contract start and end dates?"
   ]
  },
  {
   "cell_type": "code",
   "execution_count": 69,
   "id": "d98ba434",
   "metadata": {},
   "outputs": [
    {
     "data": {
      "image/png": "[encoded data removed]",
      "text/plain": [
       "<Figure size 864x504 with 1 Axes>"
      ]
     },
     "metadata": {},
     "output_type": "display_data"
    }
   ],
   "source": [
    "plt.figure(figsize = (12,7))\n",
    "\n",
    "# create a histogram of contract start dates\n",
    "plt.hist(dataset['contract_start'], bins=50, alpha=0.5, color='blue', label='Contract Start')\n",
    "\n",
    "# create a histogram of contract end dates\n",
    "plt.hist(dataset['contract_end'], bins=50, alpha=0.5, color='red', label='Contract End')\n",
    "\n",
    "# add title and axis labels\n",
    "plt.title('Distribution of Contract Start and End Dates',color = \"black\",size = 20, fontweight = \"bold\")\n",
    "plt.xlabel('Date',color = \"black\",size = 15, fontweight = \"bold\")\n",
    "plt.ylabel('Frequency',color = \"black\",size = 15, fontweight = \"bold\")\n",
    "\n",
    "# add legend\n",
    "plt.legend()\n",
    "\n",
    "# show the plot\n",
    "plt.show()"
   ]
  },
  {
   "cell_type": "markdown",
   "id": "c232b8d2",
   "metadata": {},
   "source": [
    "# 11. Is there a relationship between the number of parts sent and the repeat count for each product type?"
   ]
  },
  {
   "cell_type": "code",
   "execution_count": 70,
   "id": "f8a49602",
   "metadata": {},
   "outputs": [
    {
     "data": {
      "image/png": "[encoded data removed]",
      "text/plain": [
       "<Figure size 864x504 with 1 Axes>"
      ]
     },
     "metadata": {},
     "output_type": "display_data"
    }
   ],
   "source": [
    "# Plot scatter plot for parts vs repeat count, with different colors for each product type\n",
    "plt.figure(figsize=(12,7))\n",
    "sns.scatterplot(data=dataset, x='repeat_ct', y='parts_ct', hue='product_type')\n",
    "\n",
    "# Add labels and title\n",
    "plt.xlabel('Repeat Count',color = \"black\",size = 15, fontweight = \"bold\")\n",
    "plt.ylabel('Number of Parts',color = \"black\",size = 15, fontweight = \"bold\")\n",
    "plt.title('Relationship between Parts Sent and Repeat Count by Product Type',color = \"black\",size = 20, fontweight = \"bold\")\n",
    "\n",
    "# Show the plot\n",
    "plt.show()\n"
   ]
  },
  {
   "cell_type": "markdown",
   "id": "f0f0e8a8",
   "metadata": {},
   "source": [
    "# 12. Is there a relationship between the number of parts sent and the repeat count for each product type?"
   ]
  },
  {
   "cell_type": "code",
   "execution_count": 71,
   "id": "749652b3",
   "metadata": {},
   "outputs": [
    {
     "data": {
      "text/html": [
       "<div>\n",
       "<style scoped>\n",
       "    .dataframe tbody tr th:only-of-type {\n",
       "        vertical-align: middle;\n",
       "    }\n",
       "\n",
       "    .dataframe tbody tr th {\n",
       "        vertical-align: top;\n",
       "    }\n",
       "\n",
       "    .dataframe thead th {\n",
       "        text-align: right;\n",
       "    }\n",
       "</style>\n",
       "<table border=\"1\" class=\"dataframe\">\n",
       "  <thead>\n",
       "    <tr style=\"text-align: right;\">\n",
       "      <th></th>\n",
       "      <th>product_type</th>\n",
       "      <th>repeat_ct</th>\n",
       "      <th>parts_ct</th>\n",
       "    </tr>\n",
       "  </thead>\n",
       "  <tbody>\n",
       "    <tr>\n",
       "      <th>0</th>\n",
       "      <td>Desktops</td>\n",
       "      <td>0</td>\n",
       "      <td>13502</td>\n",
       "    </tr>\n",
       "    <tr>\n",
       "      <th>1</th>\n",
       "      <td>Desktops</td>\n",
       "      <td>1</td>\n",
       "      <td>2232</td>\n",
       "    </tr>\n",
       "    <tr>\n",
       "      <th>2</th>\n",
       "      <td>Laptops</td>\n",
       "      <td>0</td>\n",
       "      <td>71530</td>\n",
       "    </tr>\n",
       "    <tr>\n",
       "      <th>3</th>\n",
       "      <td>Laptops</td>\n",
       "      <td>1</td>\n",
       "      <td>10386</td>\n",
       "    </tr>\n",
       "    <tr>\n",
       "      <th>4</th>\n",
       "      <td>Laptops</td>\n",
       "      <td>2</td>\n",
       "      <td>46</td>\n",
       "    </tr>\n",
       "    <tr>\n",
       "      <th>5</th>\n",
       "      <td>Laptops</td>\n",
       "      <td>3</td>\n",
       "      <td>15</td>\n",
       "    </tr>\n",
       "    <tr>\n",
       "      <th>6</th>\n",
       "      <td>Other Electronics</td>\n",
       "      <td>0</td>\n",
       "      <td>2290</td>\n",
       "    </tr>\n",
       "    <tr>\n",
       "      <th>7</th>\n",
       "      <td>Other Electronics</td>\n",
       "      <td>1</td>\n",
       "      <td>279</td>\n",
       "    </tr>\n",
       "  </tbody>\n",
       "</table>\n",
       "</div>"
      ],
      "text/plain": [
       "        product_type  repeat_ct  parts_ct\n",
       "0           Desktops          0     13502\n",
       "1           Desktops          1      2232\n",
       "2            Laptops          0     71530\n",
       "3            Laptops          1     10386\n",
       "4            Laptops          2        46\n",
       "5            Laptops          3        15\n",
       "6  Other Electronics          0      2290\n",
       "7  Other Electronics          1       279"
      ]
     },
     "execution_count": 71,
     "metadata": {},
     "output_type": "execute_result"
    }
   ],
   "source": [
    "grouped_df = dataset.groupby(['product_type', 'repeat_ct'])['parts_ct'].sum().reset_index()\n",
    "grouped_df"
   ]
  },
  {
   "cell_type": "code",
   "execution_count": 72,
   "id": "f6a4d062",
   "metadata": {},
   "outputs": [
    {
     "data": {
      "image/png": "[encoded data removed]",
      "text/plain": [
       "<Figure size 864x504 with 1 Axes>"
      ]
     },
     "metadata": {},
     "output_type": "display_data"
    }
   ],
   "source": [
    "plt.figure(figsize = (12,7))\n",
    "# Create a double line chart to visualize the relationship between parts count and repeat count for each product type\n",
    "sns.lineplot(x='repeat_ct', y='parts_ct', data=grouped_df, hue='product_type')\n",
    "# Set the title and axis labels\n",
    "plt.title('Relationship between parts count and repeat count for each product type',color = \"black\",size = 15, fontweight = \"bold\")\n",
    "plt.xlabel('Repeat Count',color = \"black\",size = 15, fontweight = \"bold\")\n",
    "plt.ylabel('Parts Count',color = \"black\",size = 15, fontweight = \"bold\")\n",
    "\n",
    "# Show the chart\n",
    "plt.show()"
   ]
  },
  {
   "cell_type": "markdown",
   "id": "d77040a2",
   "metadata": {},
   "source": [
    "# Thank You"
   ]
  }
 ],
 "metadata": {
  "kernelspec": {
   "display_name": "Python 3",
   "language": "python",
   "name": "python3"
  },
  "language_info": {
   "codemirror_mode": {
    "name": "ipython",
    "version": 3
   },
   "file_extension": ".py",
   "mimetype": "text/x-python",
   "name": "python",
   "nbconvert_exporter": "python",
   "pygments_lexer": "ipython3",
   "version": "3.6.8"
  }
 },
 "nbformat": 4,
 "nbformat_minor": 5
}
